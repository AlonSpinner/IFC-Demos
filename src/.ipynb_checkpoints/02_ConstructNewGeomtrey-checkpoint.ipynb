{
 "cells": [
  {
   "cell_type": "markdown",
   "metadata": {},
   "source": [
    "based on [IfcOpenShell and PythonOCC acadmey example](https://academy.ifcopenshell.org/posts/using-ifcopenshell-and-pythonocc-to-construct-new-geometry/)\n",
    "\n",
    "Almost nothing here worked. The code was heavilty edited with examples from /ref-gits/pythonocc-demos/jupyter_notebooks"
   ]
  },
  {
   "cell_type": "code",
   "execution_count": 3,
   "metadata": {},
   "outputs": [],
   "source": [
    "import OCC\n",
    "import ifcopenshell, ifcopenshell.geom"
   ]
  },
  {
   "cell_type": "code",
   "execution_count": 4,
   "metadata": {},
   "outputs": [],
   "source": [
    "# Open the IFC file using IfcOpenShell\n",
    "ifc = ifcopenshell.open(\"../data/IfcOpenHouse_IFC4.ifc\")"
   ]
  },
  {
   "cell_type": "markdown",
   "metadata": {},
   "source": [
    "# Displaying The House"
   ]
  },
  {
   "cell_type": "code",
   "execution_count": 5,
   "metadata": {},
   "outputs": [],
   "source": [
    "#THIS IS A DIRECT COPY.DOESNT WORK. IT APEARS MODULE ifcopenshell version 0.6 is problematic?\n",
    "\n",
    "# # Specify to return pythonOCC shapes from ifcopenshell.geom.create_shape()\n",
    "# settings = ifcopenshell.geom.settings()\n",
    "# settings.set(settings.USE_PYTHON_OPENCASCADE, True)\n",
    "\n",
    "# # Initialize a graphical display window\n",
    "# occ_display = ifcopenshell.geom.utils.initialize_display()\n",
    "\n",
    "# # Open the IFC file using IfcOpenShell\n",
    "# ifc_file = ifcopenshell.open(\"IfcOpenHouse.ifc\")\n",
    "# # Display the geometrical contents of the file using Python OpenCascade\n",
    "# products = ifc_file.by_type(\"IfcProduct\")\n",
    "# for product in products:\n",
    "#     if product.is_a(\"IfcOpeningElement\"): continue\n",
    "#     if product.Representation:\n",
    "#         shape = ifcopenshell.geom.create_shape(settings, product).geometry\n",
    "#         display_shape = ifcopenshell.geom.utils.display_shape(shape)\n",
    "#         if product.is_a(\"IfcPlate\"):\n",
    "#             # Plates are the transparent parts of the window assembly\n",
    "#             # in the IfcOpenHouse model\n",
    "#             ifcopenshell.geom.utils.set_shape_transparency(display_shape, 0.8)"
   ]
  },
  {
   "cell_type": "code",
   "execution_count": 8,
   "metadata": {},
   "outputs": [
    {
     "name": "stdout",
     "output_type": "stream",
     "text": [
      "INFO:OCC.Display.backend:The qt-pyqt5 backend is already loaded...``load_backend`` can only be called once per session\n",
      "qt-pyqt5 backend - Qt version 5.12.9\n",
      "####### 3D rendering pipe initialisation #####\n",
      "Display3d class initialization starting ...\n",
      "Aspect_DisplayConnection created.\n",
      "OpenGl_GraphicDriver created.\n",
      "V3d_Viewer created.\n",
      "AIS_InteractiveContext created.\n",
      "V3d_View created\n",
      "Xw_Window created.\n",
      "Display3d class successfully initialized.\n",
      "#########################################\n",
      "OpenGl information:\n",
      "  GLvendor: Intel Open Source Technology Center\n",
      "  GLdevice: Mesa DRI Intel(R) HD Graphics 630 (KBL GT2)\n",
      "  GLversion: 3.0 Mesa 20.0.8\n",
      "  GLSLversion: 1.30\n",
      "  Max texture size: 16384\n",
      "  Max FBO dump size: 16384x16384\n",
      "  Max combined texture units: 192\n",
      "  Max MSAA samples: 16\n",
      "  Viewport: 1023x767\n",
      "  ResolutionRatio: 1\n"
     ]
    }
   ],
   "source": [
    "# Using what we know from \"helloWorld.ipynb\" in this src folder we can display an image\n",
    "# also used /pythonocc-demos/examples/ifc_clip_plane.py\n",
    "\n",
    "\n",
    "from OCC.Core.Quantity import Quantity_Color, Quantity_TOC_RGB\n",
    "from OCC.Display.SimpleGui import init_display\n",
    "occ_display, start_display, add_menu, add_function_to_menu = init_display()\n",
    "\n",
    "# Specify to return pythonOCC shapes from ifcopenshell.geom.create_shape()\n",
    "settings = ifcopenshell.geom.settings()\n",
    "settings.set(settings.USE_PYTHON_OPENCASCADE, True)\n",
    "\n",
    "#occ_display = ifcopenshell.geom.utils.initialize_display()\n",
    "products = ifc.by_type(\"IfcProduct\")\n",
    "for product in products:\n",
    "    if product.is_a(\"IfcOpeningElement\"): continue\n",
    "    if product.Representation:\n",
    "        shape = ifcopenshell.geom.create_shape(settings, product)\n",
    "        r, g, b, a = shape.styles[0] # the shape color\n",
    "        color = Quantity_Color(abs(r), abs(g), abs(b), Quantity_TOC_RGB)\n",
    "#         display_shape = occ_display.DisplayShape(shape.geometry,color=color, transparency=abs(1 -a),update=True)\n",
    "\n",
    "start_display() #must be used or kernel crashes"
   ]
  },
  {
   "cell_type": "markdown",
   "metadata": {},
   "source": [
    "## Lets use the jupyter renderer to display it 'inline'"
   ]
  },
  {
   "cell_type": "code",
   "execution_count": 8,
   "metadata": {},
   "outputs": [],
   "source": [
    "from OCC.Display.WebGl.jupyter_renderer import JupyterRenderer, format_color\n",
    "my_renderer = JupyterRenderer(size=(500, 350))\n",
    "\n",
    "# Specify to return pythonOCC shapes from ifcopenshell.geom.create_shape()\n",
    "settings = ifcopenshell.geom.settings()\n",
    "settings.set(settings.USE_PYTHON_OPENCASCADE, True)"
   ]
  },
  {
   "cell_type": "code",
   "execution_count": 9,
   "metadata": {},
   "outputs": [],
   "source": [
    "products = ifc.by_type(\"IfcProduct\") # traverse all IfcProducts\n",
    "\n",
    "for product in products:\n",
    "    if product.is_a(\"IfcOpeningElement\"): continue\n",
    "    if product.Representation is not None:  # some IfcProducts don't have any 3d representation\n",
    "        pdct_shape = ifcopenshell.geom.create_shape(settings, inst=product)\n",
    "\n",
    "        if product.is_a(\"IfcPlate\"):\n",
    "            trans = True\n",
    "        else:\n",
    "            trans = False\n",
    "\n",
    "        r,g,b,alpha = pdct_shape.styles[0] # the shape color\n",
    "        color = format_color(int(abs(r)*255), int(abs(g)*255), int(abs(b)*255))\n",
    "        # below, the pdct_shape.geometry is a TopoDS_Shape, i.e. can be rendered using\n",
    "        # any renderer (threejs, x3dom, jupyter, qt5 based etc.)\n",
    "        my_renderer.DisplayShape(pdct_shape.geometry, shape_color = color, transparency=trans, opacity=alpha)"
   ]
  },
  {
   "cell_type": "code",
   "execution_count": 10,
   "metadata": {},
   "outputs": [
    {
     "name": "stderr",
     "output_type": "stream",
     "text": [
      "/home/alon/LocalInstalls/miniconda3/envs/pyoccenv/lib/python3.8/site-packages/jupyter_client/session.py:716: UserWarning: Message serialization failed with:\n",
      "Out of range float values are not JSON compliant\n",
      "Supporting this message is deprecated in jupyter-client 7, please make sure your message is JSON-compliant\n",
      "  content = self.pack(content)\n"
     ]
    },
    {
     "data": {
      "application/vnd.jupyter.widget-view+json": {
       "model_id": "4b142956bc7d44aab55364f970bda4c9",
       "version_major": 2,
       "version_minor": 0
      },
      "text/plain": [
       "HBox(children=(VBox(children=(HBox(children=(Checkbox(value=True, description='Axes', layout=Layout(height='au…"
      ]
     },
     "metadata": {},
     "output_type": "display_data"
    }
   ],
   "source": [
    "my_renderer.Display()"
   ]
  },
  {
   "cell_type": "markdown",
   "metadata": {},
   "source": [
    "#  Filtering Elements and getting bounding box of walls only\n",
    "\n",
    "helpful: https://programtalk.com/python-examples/OCC.BRepBndLib.brepbndlib_Add/"
   ]
  },
  {
   "cell_type": "code",
   "execution_count": 8,
   "metadata": {},
   "outputs": [
    {
     "name": "stdout",
     "output_type": "stream",
     "text": [
      "Center = (0.0, 2.5000000000000004, 2.75)\n"
     ]
    }
   ],
   "source": [
    "my_renderer.EraseAll()\n",
    "\n",
    "# Get a list of all walls in the file\n",
    "walls = ifc.by_type(\"IfcWall\")\n",
    "\n",
    "# Create a list of wall representation shapes\n",
    "# and compute the bounding box of these shapes\n",
    "\n",
    "wall_shapes = [] #note, this will be used laterz\n",
    "bbox = OCC.Core.Bnd.Bnd_Box()\n",
    "for wall in walls:\n",
    "    shape = ifcopenshell.geom.create_shape(settings, wall).geometry\n",
    "    \n",
    "    wall_shapes.append((wall, shape))\n",
    "    OCC.Core.BRepBndLib.brepbndlib_Add(shape,bbox)  \n",
    "    \n",
    "    my_renderer.DisplayShape(shape, render_edges=False)\n",
    "    \n",
    "#Calculate the center/average of the bounding box\n",
    "bounding_box_center = ifcopenshell.geom.utils.get_bounding_box_center(bbox)\n",
    "\n",
    "# Found this by accident, will it be helpfull?\n",
    "# OCC.Display.OCCViewer.Display3d.GetImageData\n",
    "\n",
    "print(\"Center = {}\".format(bounding_box_center.Coord()))"
   ]
  },
  {
   "cell_type": "code",
   "execution_count": 9,
   "metadata": {},
   "outputs": [
    {
     "data": {
      "application/vnd.jupyter.widget-view+json": {
       "model_id": "19c073af83bc4df4abeffd313da51738",
       "version_major": 2,
       "version_minor": 0
      },
      "text/plain": [
       "HBox(children=(VBox(children=(HBox(children=(Checkbox(value=True, description='Axes', layout=Layout(height='au…"
      ]
     },
     "metadata": {},
     "output_type": "display_data"
    },
    {
     "data": {
      "text/plain": []
     },
     "execution_count": 9,
     "metadata": {},
     "output_type": "execute_result"
    }
   ],
   "source": [
    "my_renderer"
   ]
  },
  {
   "cell_type": "markdown",
   "metadata": {},
   "source": [
    "# Extracting Faces and Manipulation on Normals\n",
    "\n",
    "note: in open cascade and most other geomtrey kernels there is a distinction between geomtrey and topoly\n",
    "\n",
    "https://opencascade.blogspot.com/2009/02/topology-and-geometry-in-open-cascade.html\n",
    "\n",
    "reading it, I can summaraize as such:\n",
    "    topolgy is the complex structure (face,shell,solid...) that uses simple geomtries (point, plane ...)"
   ]
  },
  {
   "cell_type": "code",
   "execution_count": 7,
   "metadata": {},
   "outputs": [
    {
     "name": "stdout",
     "output_type": "stream",
     "text": [
      "/home/alon/LocalInstalls/miniconda3/envs/pyoccenv/lib/python3.8/site-packages\n"
     ]
    }
   ],
   "source": [
    "#note.. over here the reference has us call a module called \"OCC.Utils\" which we dont have. Lets investigate:\n",
    "import site; print(''.join(site.getsitepackages())) #this brings us to where all the packages in our venv are installed\n",
    "#nope nothing here...\n",
    "#this comes from a git https://github.com/tpaviot/pythonocc-utils. (installed with pip)\n"
   ]
  },
  {
   "cell_type": "code",
   "execution_count": 11,
   "metadata": {},
   "outputs": [],
   "source": [
    "my_renderer.EraseAll()\n",
    "\n",
    "import OCCUtils\n",
    "\n",
    "# Now create halfspace solids from the inner faces of the wall\n",
    "halfspaces = []\n",
    "outside_faces = []\n",
    "for wall, shape in wall_shapes:\n",
    "    \n",
    "    topo = OCCUtils.Topo(shape) #from https://pythonocc-doc.readthedocs.io/en/latest/geom_intro/\n",
    "    for face in topo.faces():\n",
    "        surf = OCC.Core.BRep.BRep_Tool.Surface(face)\n",
    "        \n",
    "        ## methods that dont exist anymore\n",
    "        #obj = surf.GetObject() \n",
    "        #assert obj.DynamicType().GetObject().Name() == \"Geom_Plane\"\n",
    "        \n",
    "        plane = OCC.Core.Geom.Handle_Geom_Plane_DownCast(surf)\n",
    "        \n",
    "        if plane.Axis().Direction().Z() == 0:\n",
    "            face_bbox = OCC.Core.Bnd.Bnd_Box()\n",
    "            OCC.Core.BRepBndLib.brepbndlib_Add(face, face_bbox)\n",
    "            face_center = ifcopenshell.geom.utils.get_bounding_box_center(face_bbox).XYZ()\n",
    "            \n",
    "            face_normal = plane.Axis().Direction().XYZ()\n",
    "            vector_towards_center = bounding_box_center.XYZ() - face_center\n",
    "            vector_towards_center.Normalize()\n",
    "            \n",
    "            dot = vector_towards_center.Dot(face_normal)\n",
    "\n",
    "            #normals of shapes go inside the shapes. That is to say that walls on the outside of the house will have normals that point into it's center.\n",
    "            \n",
    "            if dot > 0.8:\n",
    "                my_renderer.DisplayShape(face,shape_color='#2EA320') #green \n",
    "\n",
    "                face_plane = plane.Pln()\n",
    "                new_face = OCC.Core.BRepBuilderAPI.BRepBuilderAPI_MakeFace(face_plane).Face()\n",
    "                halfspace = OCC.Core.BRepPrimAPI.BRepPrimAPI_MakeHalfSpace(\n",
    "                    new_face, bounding_box_center).Solid()\n",
    "                halfspaces.append(halfspace)\n",
    "\n",
    "                outside_faces.append(face)\n",
    "            else:\n",
    "\n",
    "                my_renderer.DisplayShape(face,shape_color='#FF5733') #red\n"
   ]
  },
  {
   "cell_type": "code",
   "execution_count": 12,
   "metadata": {},
   "outputs": [
    {
     "data": {
      "application/vnd.jupyter.widget-view+json": {
       "model_id": "d2e82435a95c4fcdb3acf9a9b380c877",
       "version_major": 2,
       "version_minor": 0
      },
      "text/plain": [
       "HBox(children=(VBox(children=(HBox(children=(Checkbox(value=True, description='Axes', layout=Layout(height='au…"
      ]
     },
     "metadata": {},
     "output_type": "display_data"
    },
    {
     "data": {
      "text/plain": []
     },
     "execution_count": 12,
     "metadata": {},
     "output_type": "execute_result"
    }
   ],
   "source": [
    "my_renderer"
   ]
  },
  {
   "cell_type": "markdown",
   "metadata": {},
   "source": [
    "# Creating Halfspace Solids from the bottom faces of the roofs"
   ]
  },
  {
   "cell_type": "code",
   "execution_count": 13,
   "metadata": {},
   "outputs": [],
   "source": [
    "my_renderer.EraseAll()\n",
    "\n",
    "# Create halfspace solids from the bottom faces of the roofs\n",
    "\n",
    "roofs = ifc.by_type(\"IfcSlab\") #I went to the IFC file and tried to figure out how the fuck it can be called, because ifcRoof was no good\n",
    "for roof in roofs:\n",
    "    roof.Representation is not None\n",
    "    shape = ifcopenshell.geom.create_shape(settings, roof).geometry\n",
    "    \n",
    "    topo = OCCUtils.Topo(shape)\n",
    "    for face in topo.faces():\n",
    "        surf = OCC.Core.BRep.BRep_Tool.Surface(face)\n",
    "        plane = OCC.Core.Geom.Handle_Geom_Plane_DownCast(surf)\n",
    "\n",
    "        if plane.Axis().Direction().Z() > 0.5:\n",
    "            \n",
    "            my_renderer.DisplayShape(face,shape_color='#FF5733') #red\n",
    "\n",
    "            face_plane = plane.Pln()\n",
    "            new_face = OCC.Core.BRepBuilderAPI.BRepBuilderAPI_MakeFace(face_plane).Face()\n",
    "            halfspace = OCC.Core.BRepPrimAPI.BRepPrimAPI_MakeHalfSpace(\n",
    "                new_face, bounding_box_center).Solid()\n",
    "            halfspaces.append(halfspace)\n",
    "\n",
    "        else:\n",
    "\n",
    "            my_renderer.DisplayShape(face,shape_color='#2EA320') #green"
   ]
  },
  {
   "cell_type": "code",
   "execution_count": 14,
   "metadata": {},
   "outputs": [
    {
     "data": {
      "application/vnd.jupyter.widget-view+json": {
       "model_id": "7754cadcd16b45fdae89c9ce9f01afe8",
       "version_major": 2,
       "version_minor": 0
      },
      "text/plain": [
       "HBox(children=(VBox(children=(HBox(children=(Checkbox(value=True, description='Axes', layout=Layout(height='au…"
      ]
     },
     "metadata": {},
     "output_type": "display_data"
    },
    {
     "data": {
      "text/plain": []
     },
     "execution_count": 14,
     "metadata": {},
     "output_type": "execute_result"
    }
   ],
   "source": [
    "my_renderer"
   ]
  },
  {
   "cell_type": "markdown",
   "metadata": {},
   "source": [
    "# Using Booleanic operations to compute the volume of the house"
   ]
  },
  {
   "cell_type": "code",
   "execution_count": 15,
   "metadata": {},
   "outputs": [
    {
     "name": "stdout",
     "output_type": "stream",
     "text": [
      "Space volume: 195.28838399999998 cubic meter\n"
     ]
    }
   ],
   "source": [
    "my_renderer.EraseAll()\n",
    "from OCC.Core import BRepAlgoAPI #btw BRep stands for boundry representation\n",
    "\n",
    "a = 10\n",
    "\n",
    "# Create an initial box from which to cut the halfspaces\n",
    "common_shape = OCC.Core.BRepPrimAPI.BRepPrimAPI_MakeBox(\n",
    "    OCC.Core.gp.gp_Pnt(-a, -a, 0),\n",
    "    OCC.Core.gp.gp_Pnt(a, a, a)).Solid()\n",
    "for halfspace in halfspaces:    \n",
    "     common_shape = BRepAlgoAPI.BRepAlgoAPI_Common(common_shape, halfspace).Shape()\n",
    "\n",
    "my_renderer.DisplayShape(common_shape,shape_color='#2EA320') #green\n",
    "\n",
    "# Calculate the volume properties of the resulting space shape\n",
    "props = OCC.Core.GProp.GProp_GProps()\n",
    "OCC.Core.BRepGProp.brepgprop_VolumeProperties(common_shape, props)\n",
    "print(\"Space volume: {} cubic meter\".format(props.Mass()))"
   ]
  },
  {
   "cell_type": "code",
   "execution_count": 16,
   "metadata": {},
   "outputs": [
    {
     "data": {
      "application/vnd.jupyter.widget-view+json": {
       "model_id": "5a899712c6af4c24bb058a19c1238e43",
       "version_major": 2,
       "version_minor": 0
      },
      "text/plain": [
       "HBox(children=(VBox(children=(HBox(children=(Checkbox(value=True, description='Axes', layout=Layout(height='au…"
      ]
     },
     "metadata": {},
     "output_type": "display_data"
    },
    {
     "data": {
      "text/plain": []
     },
     "execution_count": 16,
     "metadata": {},
     "output_type": "execute_result"
    }
   ],
   "source": [
    "my_renderer"
   ]
  },
  {
   "cell_type": "markdown",
   "metadata": {},
   "source": [
    "# Distinguishing walls Facing X-East"
   ]
  },
  {
   "cell_type": "code",
   "execution_count": 17,
   "metadata": {},
   "outputs": [],
   "source": [
    "my_renderer.EraseAll()\n",
    "\n",
    "for face in outside_faces:\n",
    "        surf = OCC.Core.BRep.BRep_Tool.Surface(face)\n",
    "        plane = OCC.Core.Geom.Handle_Geom_Plane_DownCast(surf)\n",
    "\n",
    "        if abs(plane.Axis().Direction().X()) > 0:\n",
    "                my_renderer.DisplayShape(face,shape_color='#2EA320') #green\n",
    "        else:\n",
    "                my_renderer.DisplayShape(face,shape_color='#FF5733') #red"
   ]
  },
  {
   "cell_type": "code",
   "execution_count": 18,
   "metadata": {},
   "outputs": [
    {
     "data": {
      "application/vnd.jupyter.widget-view+json": {
       "model_id": "b9c64f5411a442d396ff81b53508abaa",
       "version_major": 2,
       "version_minor": 0
      },
      "text/plain": [
       "HBox(children=(VBox(children=(HBox(children=(Checkbox(value=True, description='Axes', layout=Layout(height='au…"
      ]
     },
     "metadata": {},
     "output_type": "display_data"
    },
    {
     "data": {
      "text/plain": []
     },
     "execution_count": 18,
     "metadata": {},
     "output_type": "execute_result"
    }
   ],
   "source": [
    "my_renderer"
   ]
  },
  {
   "cell_type": "code",
   "execution_count": null,
   "metadata": {},
   "outputs": [],
   "source": []
  }
 ],
 "metadata": {
  "interpreter": {
   "hash": "07e88f05ead42013da3bee1e362d4d97da7eadb89a5f20d908099e8ea5ceb2e9"
  },
  "kernelspec": {
   "display_name": "Python 3.9.7 64-bit ('pyoccenv': conda)",
   "language": "python",
   "name": "python397jvsc74a57bd007e88f05ead42013da3bee1e362d4d97da7eadb89a5f20d908099e8ea5ceb2e9"
  },
  "language_info": {
   "codemirror_mode": {
    "name": "ipython",
    "version": 3
   },
   "file_extension": ".py",
   "mimetype": "text/x-python",
   "name": "python",
   "nbconvert_exporter": "python",
   "pygments_lexer": "ipython3",
   "version": "3.8.12"
  }
 },
 "nbformat": 4,
 "nbformat_minor": 2
}
