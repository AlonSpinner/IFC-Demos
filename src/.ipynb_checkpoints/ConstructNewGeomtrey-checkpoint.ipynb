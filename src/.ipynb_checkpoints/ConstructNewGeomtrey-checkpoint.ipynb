{
 "cells": [
  {
   "cell_type": "markdown",
   "metadata": {},
   "source": [
    "based on [IfcOpenShell and PythonOCC acadmey example](https://academy.ifcopenshell.org/posts/using-ifcopenshell-and-pythonocc-to-construct-new-geometry/)\n"
   ]
  },
  {
   "cell_type": "code",
   "execution_count": 8,
   "metadata": {},
   "outputs": [],
   "source": [
    "import OCC\n",
    "from OCC.Display.WebGl.jupyter_renderer import JupyterRenderer, format_color\n",
    "import ifcopenshell, ifcopenshell.geom"
   ]
  },
  {
   "cell_type": "code",
   "execution_count": 9,
   "metadata": {},
   "outputs": [],
   "source": [
    "# Open the IFC file using IfcOpenShell\n",
    "ifc = ifcopenshell.open(\"../data/IfcOpenHouse_IFC4.ifc\")"
   ]
  },
  {
   "cell_type": "code",
   "execution_count": 10,
   "metadata": {},
   "outputs": [],
   "source": [
    "# Specify to return pythonOCC shapes from ifcopenshell.geom.create_shape()\n",
    "settings = ifcopenshell.geom.settings()\n",
    "settings.set(settings.USE_PYTHON_OPENCASCADE, True)\n",
    "products = ifc.by_type(\"IfcProduct\") # traverse all IfcProducts\n",
    "walls = ifc.by_type('IfcWall')\n",
    "my_renderer = JupyterRenderer(size=(700, 700))\n",
    "\n",
    "for product in walls[0:2]:\n",
    "    if product.Representation is not None:  # some IfcProducts don't have any 3d representation\n",
    "        pdct_shape = ifcopenshell.geom.create_shape(settings, inst=product)\n",
    "        r,g,b,alpha = pdct_shape.styles[0] # the shape color\n",
    "        color = format_color(int(abs(r)*255), int(abs(g)*255), int(abs(b)*255))\n",
    "        # below, the pdct_shape.geometry is a TopoDS_Shape, i.e. can be rendered using\n",
    "        # any renderer (threejs, x3dom, jupyter, qt5 based etc.)\n",
    "        my_renderer.DisplayShape(pdct_shape.geometry, shape_color = color, transparency=True, opacity=alpha)"
   ]
  },
  {
   "cell_type": "code",
   "execution_count": 6,
   "metadata": {},
   "outputs": [
    {
     "data": {
      "application/vnd.jupyter.widget-view+json": {
       "model_id": "d4a4ac683d5b4786b227f56a308e3904",
       "version_major": 2,
       "version_minor": 0
      },
      "text/plain": [
       "HBox(children=(VBox(children=(HBox(children=(Checkbox(value=True, description='Axes', layout=Layout(height='au…"
      ]
     },
     "metadata": {},
     "output_type": "display_data"
    },
    {
     "data": {
      "text/plain": []
     },
     "execution_count": 6,
     "metadata": {},
     "output_type": "execute_result"
    }
   ],
   "source": [
    "my_renderer"
   ]
  },
  {
   "cell_type": "code",
   "execution_count": 8,
   "metadata": {},
   "outputs": [],
   "source": [
    "import ifcopenshell\n",
    "import ifcopenshell.geom\n",
    "import OCC"
   ]
  },
  {
   "cell_type": "code",
   "execution_count": null,
   "metadata": {},
   "outputs": [],
   "source": [
    "OCC.Core."
   ]
  },
  {
   "cell_type": "code",
   "execution_count": 4,
   "metadata": {},
   "outputs": [
    {
     "name": "stdout",
     "output_type": "stream",
     "text": [
      "INFO:OCC.Display.backend:The qt-pyqt5 backend is already loaded...``load_backend`` can only be called once per session\n",
      "INFO:OCC.Display.SimpleGui:GUI backend set to: qt-pyqt5\n",
      " ###### 3D rendering pipe initialisation #####\n",
      "Display3d class initialization starting ...\n",
      "Aspect_DisplayConnection created.\n",
      "Graphic_Driver created.\n",
      "V3d_Viewer created.\n",
      "AIS_InteractiveContext created.\n",
      "V3d_View created\n",
      "Xw_Window created.\n",
      "Display3d class successfully initialized.\n",
      " ########################################\n",
      "4\n"
     ]
    },
    {
     "ename": "AttributeError",
     "evalue": "module 'OCC.Core' has no attribute 'brepbndlib_Add'",
     "output_type": "error",
     "traceback": [
      "\u001b[0;31m---------------------------------------------------------------------------\u001b[0m",
      "\u001b[0;31mAttributeError\u001b[0m                            Traceback (most recent call last)",
      "\u001b[0;32m/tmp/ipykernel_31251/768184153.py\u001b[0m in \u001b[0;36m<module>\u001b[0;34m\u001b[0m\n\u001b[1;32m     21\u001b[0m \u001b[0;34m\u001b[0m\u001b[0m\n\u001b[1;32m     22\u001b[0m     \u001b[0mwall_shapes\u001b[0m\u001b[0;34m.\u001b[0m\u001b[0mappend\u001b[0m\u001b[0;34m(\u001b[0m\u001b[0;34m(\u001b[0m\u001b[0mwall\u001b[0m\u001b[0;34m,\u001b[0m \u001b[0mshape\u001b[0m\u001b[0;34m)\u001b[0m\u001b[0;34m)\u001b[0m\u001b[0;34m\u001b[0m\u001b[0;34m\u001b[0m\u001b[0m\n\u001b[0;32m---> 23\u001b[0;31m     \u001b[0mOCC\u001b[0m\u001b[0;34m.\u001b[0m\u001b[0mCore\u001b[0m\u001b[0;34m.\u001b[0m\u001b[0mbrepbndlib_Add\u001b[0m\u001b[0;34m(\u001b[0m\u001b[0mshape\u001b[0m\u001b[0;34m,\u001b[0m \u001b[0mbbox\u001b[0m\u001b[0;34m)\u001b[0m\u001b[0;34m\u001b[0m\u001b[0;34m\u001b[0m\u001b[0m\n\u001b[0m\u001b[1;32m     24\u001b[0m \u001b[0;34m\u001b[0m\u001b[0m\n\u001b[1;32m     25\u001b[0m     \u001b[0mifcopenshell\u001b[0m\u001b[0;34m.\u001b[0m\u001b[0mgeom\u001b[0m\u001b[0;34m.\u001b[0m\u001b[0mutils\u001b[0m\u001b[0;34m.\u001b[0m\u001b[0mdisplay_shape\u001b[0m\u001b[0;34m(\u001b[0m\u001b[0mshape\u001b[0m\u001b[0;34m)\u001b[0m\u001b[0;34m\u001b[0m\u001b[0;34m\u001b[0m\u001b[0m\n",
      "\u001b[0;31mAttributeError\u001b[0m: module 'OCC.Core' has no attribute 'brepbndlib_Add'"
     ]
    }
   ],
   "source": [
    "ifc_file = ifcopenshell.open(\"../data/IfcOpenHouse_IFC2x3.ifc\")\n",
    "from OCC.Display.SimpleGui import init_display\n",
    "occ_display, start_display, add_menu, add_function_to_menu = init_display()\n",
    "\n",
    "settings = ifcopenshell.geom.settings()\n",
    "settings.set(settings.USE_PYTHON_OPENCASCADE, True)\n",
    "\n",
    "\n",
    "ifc = ifc_file\n",
    "walls = ifc.by_type('IfcWall')\n",
    "print(len(walls))\n",
    "\n",
    "wall_shapes = []\n",
    "bbox = OCC.Core.Bnd.Bnd_Box()\n",
    "for wall in walls:\n",
    "    shape = ifcopenshell.geom.create_shape(settings, wall).geometry\n",
    "    \n",
    "    wall_shapes.append((wall, shape))\n",
    "    OCC.Core.BRepBndLib.brepbndlib_Add(shape, bbox)\n",
    "    \n",
    "    \n",
    "    ifcopenshell.geom.utils.display_shape(shape)"
   ]
  },
  {
   "cell_type": "code",
   "execution_count": null,
   "metadata": {},
   "outputs": [],
   "source": []
  }
 ],
 "metadata": {
  "interpreter": {
   "hash": "07e88f05ead42013da3bee1e362d4d97da7eadb89a5f20d908099e8ea5ceb2e9"
  },
  "kernelspec": {
   "display_name": "Python 3.7.12 64-bit ('pyoccenv': conda)",
   "language": "python",
   "name": "python3712jvsc74a57bd007e88f05ead42013da3bee1e362d4d97da7eadb89a5f20d908099e8ea5ceb2e9"
  },
  "language_info": {
   "codemirror_mode": {
    "name": "ipython",
    "version": 3
   },
   "file_extension": ".py",
   "mimetype": "text/x-python",
   "name": "python",
   "nbconvert_exporter": "python",
   "pygments_lexer": "ipython3",
   "version": "3.7.12"
  }
 },
 "nbformat": 4,
 "nbformat_minor": 2
}
