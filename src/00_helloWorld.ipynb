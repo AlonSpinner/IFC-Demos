{
 "cells": [
  {
   "cell_type": "code",
   "execution_count": 1,
   "metadata": {},
   "outputs": [
    {
     "name": "stdout",
     "output_type": "stream",
     "text": [
      "qt-pyqt5 backend - Qt version 5.12.9\n",
      "####### 3D rendering pipe initialisation #####\n",
      "Display3d class initialization starting ...\n",
      "Aspect_DisplayConnection created.\n",
      "OpenGl_GraphicDriver created.\n",
      "V3d_Viewer created.\n",
      "AIS_InteractiveContext created.\n",
      "V3d_View created\n",
      "Xw_Window created.\n",
      "Display3d class successfully initialized.\n",
      "#########################################\n",
      "OpenGl information:\n",
      "  GLvendor: Intel Open Source Technology Center\n",
      "  GLdevice: Mesa DRI Intel(R) HD Graphics 630 (KBL GT2)\n",
      "  GLversion: 3.0 Mesa 20.0.8\n",
      "  GLSLversion: 1.30\n",
      "  Max texture size: 16384\n",
      "  Max FBO dump size: 16384x16384\n",
      "  Max combined texture units: 192\n",
      "  Max MSAA samples: 16\n",
      "  Viewport: 1023x767\n",
      "  ResolutionRatio: 1\n",
      "INFO:OCC.Display.qtDisplay:key: code 16777249 not mapped to any function\n",
      "INFO:OCC.Display.qtDisplay:key: \"C\"(code 67) not mapped to any function\n"
     ]
    }
   ],
   "source": [
    "# https://pythonocc-doc.readthedocs.io/en/latest/hellobox/\n",
    "\n",
    "from OCC.Core.BRepPrimAPI import BRepPrimAPI_MakeBox\n",
    "from OCC.Display.SimpleGui import init_display\n",
    "\n",
    "display, start_display, add_menu, add_function_to_menu = init_display()\n",
    "\n",
    "my_box = BRepPrimAPI_MakeBox(10.,20.,30.).Shape()\n",
    "\n",
    "display.DisplayShape(my_box, update=True )\n",
    "start_display()"
   ]
  }
 ],
 "metadata": {
  "interpreter": {
   "hash": "07e88f05ead42013da3bee1e362d4d97da7eadb89a5f20d908099e8ea5ceb2e9"
  },
  "kernelspec": {
   "display_name": "Python 3.9.7 64-bit ('pyoccenv': conda)",
   "name": "python3"
  },
  "language_info": {
   "codemirror_mode": {
    "name": "ipython",
    "version": 3
   },
   "file_extension": ".py",
   "mimetype": "text/x-python",
   "name": "python",
   "nbconvert_exporter": "python",
   "pygments_lexer": "ipython3",
   "version": "3.9.7"
  },
  "orig_nbformat": 4
 },
 "nbformat": 4,
 "nbformat_minor": 2
}
