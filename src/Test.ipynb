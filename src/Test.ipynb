{
 "cells": [
  {
   "cell_type": "markdown",
   "metadata": {},
   "source": [
    "based on [IfcOpenShell and PythonOCC acadmey example](https://academy.ifcopenshell.org/posts/using-ifcopenshell-and-pythonocc-to-construct-new-geometry/)\n"
   ]
  },
  {
   "cell_type": "code",
   "execution_count": 4,
   "metadata": {},
   "outputs": [],
   "source": [
    "ifcPath=\"../data/Duplex_A.ifc\""
   ]
  },
  {
   "cell_type": "code",
   "execution_count": 5,
   "metadata": {},
   "outputs": [
    {
     "name": "stdout",
     "output_type": "stream",
     "text": [
      "qt-pyqt5 backend - Qt version 5.12.9\n",
      "####### 3D rendering pipe initialisation #####\n",
      "Display3d class initialization starting ...\n",
      "Aspect_DisplayConnection created.\n",
      "OpenGl_GraphicDriver created.\n",
      "V3d_Viewer created.\n",
      "AIS_InteractiveContext created.\n",
      "V3d_View created\n",
      "Xw_Window created.\n",
      "Display3d class successfully initialized.\n",
      "#########################################\n",
      "OpenGl information:\n",
      "  GLvendor: Intel Open Source Technology Center\n",
      "  GLdevice: Mesa DRI Intel(R) HD Graphics 630 (KBL GT2)\n",
      "  GLversion: 3.0 Mesa 20.0.8\n",
      "  GLSLversion: 1.30\n",
      "  Max texture size: 16384\n",
      "  Max FBO dump size: 16384x16384\n",
      "  Max combined texture units: 192\n",
      "  Max MSAA samples: 16\n",
      "  Viewport: 1023x767\n",
      "  ResolutionRatio: 1\n"
     ]
    }
   ],
   "source": [
    "\n",
    "import ifcopenshell\n",
    "import ifcopenshell.geom\n",
    "import OCC\n",
    "\n",
    "# Specify to return pythonOCC shapes from ifcopenshell.geom.create_shape()\n",
    "settings = ifcopenshell.geom.settings()\n",
    "settings.set(settings.USE_PYTHON_OPENCASCADE, True)\n",
    "\n",
    "# Initialize a graphical display window\n",
    "#occ_display = ifcopenshell.geom.utils.initialize_display()\n",
    "from OCC.Display.SimpleGui import init_display\n",
    "occ_display, start_display, add_menu, add_function_to_menu = init_display()"
   ]
  },
  {
   "cell_type": "code",
   "execution_count": 6,
   "metadata": {},
   "outputs": [
    {
     "name": "stdout",
     "output_type": "stream",
     "text": [
      "57\n"
     ]
    }
   ],
   "source": [
    "ifc = ifcopenshell.open(ifcPath)\n",
    "walls = ifc.by_type('IfcWall')\n",
    "print(len(walls))"
   ]
  },
  {
   "cell_type": "code",
   "execution_count": 13,
   "metadata": {},
   "outputs": [
    {
     "ename": "AttributeError",
     "evalue": "'NoneType' object has no attribute 'Context'",
     "output_type": "error",
     "traceback": [
      "\u001b[0;31m---------------------------------------------------------------------------\u001b[0m",
      "\u001b[0;31mAttributeError\u001b[0m                            Traceback (most recent call last)",
      "\u001b[0;32m/tmp/ipykernel_21673/4134051553.py\u001b[0m in \u001b[0;36m<module>\u001b[0;34m\u001b[0m\n\u001b[1;32m     10\u001b[0m     \u001b[0mOCC\u001b[0m\u001b[0;34m.\u001b[0m\u001b[0mCore\u001b[0m\u001b[0;34m.\u001b[0m\u001b[0mBRepBndLib\u001b[0m\u001b[0;34m.\u001b[0m\u001b[0mbrepbndlib_Add\u001b[0m\u001b[0;34m(\u001b[0m\u001b[0mshape\u001b[0m\u001b[0;34m,\u001b[0m \u001b[0mbbox\u001b[0m\u001b[0;34m)\u001b[0m\u001b[0;34m\u001b[0m\u001b[0;34m\u001b[0m\u001b[0m\n\u001b[1;32m     11\u001b[0m \u001b[0;34m\u001b[0m\u001b[0m\n\u001b[0;32m---> 12\u001b[0;31m     \u001b[0mifcopenshell\u001b[0m\u001b[0;34m.\u001b[0m\u001b[0mgeom\u001b[0m\u001b[0;34m.\u001b[0m\u001b[0mutils\u001b[0m\u001b[0;34m.\u001b[0m\u001b[0mdisplay_shape\u001b[0m\u001b[0;34m(\u001b[0m\u001b[0mshape\u001b[0m\u001b[0;34m)\u001b[0m\u001b[0;34m\u001b[0m\u001b[0;34m\u001b[0m\u001b[0m\n\u001b[0m",
      "\u001b[0;32m~/LocalInstalls/miniconda3/envs/pyoccenv/lib/python3.9/site-packages/ifcopenshell/geom/occ_utils.py\u001b[0m in \u001b[0;36mdisplay_shape\u001b[0;34m(shape, clr, viewer_handle)\u001b[0m\n\u001b[1;32m    194\u001b[0m \u001b[0;34m\u001b[0m\u001b[0m\n\u001b[1;32m    195\u001b[0m     \u001b[0mais_handle\u001b[0m \u001b[0;34m=\u001b[0m \u001b[0mais\u001b[0m\u001b[0;34m.\u001b[0m\u001b[0mGetHandle\u001b[0m\u001b[0;34m(\u001b[0m\u001b[0;34m)\u001b[0m \u001b[0;32mif\u001b[0m \u001b[0mUSE_OCCT_HANDLE\u001b[0m \u001b[0;32melse\u001b[0m \u001b[0mais\u001b[0m\u001b[0;34m\u001b[0m\u001b[0;34m\u001b[0m\u001b[0m\n\u001b[0;32m--> 196\u001b[0;31m     \u001b[0mviewer_handle\u001b[0m\u001b[0;34m.\u001b[0m\u001b[0mContext\u001b[0m\u001b[0;34m.\u001b[0m\u001b[0mDisplay\u001b[0m\u001b[0;34m(\u001b[0m\u001b[0mais_handle\u001b[0m\u001b[0;34m,\u001b[0m \u001b[0;32mFalse\u001b[0m\u001b[0;34m)\u001b[0m\u001b[0;34m\u001b[0m\u001b[0;34m\u001b[0m\u001b[0m\n\u001b[0m\u001b[1;32m    197\u001b[0m \u001b[0;34m\u001b[0m\u001b[0m\n\u001b[1;32m    198\u001b[0m     \u001b[0;32mreturn\u001b[0m \u001b[0mais_handle\u001b[0m\u001b[0;34m\u001b[0m\u001b[0;34m\u001b[0m\u001b[0m\n",
      "\u001b[0;31mAttributeError\u001b[0m: 'NoneType' object has no attribute 'Context'"
     ]
    }
   ],
   "source": [
    "# Create a list of wall representation shapes\n",
    "# and compute the bounding box of these shapes\n",
    "\n",
    "wall_shapes = []\n",
    "bbox = OCC.Core.Bnd.Bnd_Box()\n",
    "for wall in walls:\n",
    "    shape = ifcopenshell.geom.create_shape(settings, wall).geometry\n",
    "    \n",
    "    wall_shapes.append((wall, shape))\n",
    "    OCC.Core.BRepBndLib.brepbndlib_Add(shape, bbox)    \n",
    "    \n",
    "    ifcopenshell.geom.utils.display_shape(shape)"
   ]
  },
  {
   "cell_type": "code",
   "execution_count": 1,
   "metadata": {},
   "outputs": [],
   "source": [
    "import ifcopenshell\n",
    "from ifcopenshell import geom\n",
    "\n",
    "def read_geom(ifc_path):\n",
    "    ifc_file = ifcopenshell.open(ifc_path)\n",
    "    settings = geom.settings()\n",
    "\n",
    "    for ifc_entity in ifc_file.by_type(\"IfcWall\"):\n",
    "        shape = geom.create_shape(settings, ifc_entity)\n",
    "        #Get the mesh\n",
    "        ios_vertices = shape.geometry.verts\n",
    "        ios_edges = shape.geometry.edges\n",
    "        ios_faces = shape.geometry.faces\n",
    "\n",
    "        #Try to print normally\n",
    "        print(ios_vertices)\n",
    "        print(ios_edges)\n",
    "        print(ios_faces)"
   ]
  },
  {
   "cell_type": "code",
   "execution_count": 19,
   "metadata": {},
   "outputs": [
    {
     "name": "stdout",
     "output_type": "stream",
     "text": [
      "shape_tuple(data=<ifcopenshell.ifcopenshell_wrapper.serialized_element_double_precision; proxy of <Swig Object of type 'IfcGeom::SerializedElement< double,double > *' at 0x7f89214309f0> >, geometry=<class 'TopoDS_Compound'>, styles=((0.5019607843137255, 0.5019607843137255, 0.5019607843137255, 1.0),), style_ids=(3792,))\n"
     ]
    }
   ],
   "source": [
    "#https://www.linuxtut.com/en/dced9fc3d8869e88ce6c/\n",
    "\n",
    "wall=walls[0]\n",
    "shape = ifcopenshell.geom.create_shape(settings, wall)\n",
    "print(shape)\n",
    "#ios_vertices = shape.geometry.verts\n",
    "#ios_edges = shape.geometry.edges\n",
    "# ios_faces = shape.geometry.faces\n",
    "\n",
    "#print(ios_vertices)\n",
    "#print(ios_edges)\n",
    "#print(ios_faces)"
   ]
  }
 ],
 "metadata": {
  "interpreter": {
   "hash": "07e88f05ead42013da3bee1e362d4d97da7eadb89a5f20d908099e8ea5ceb2e9"
  },
  "kernelspec": {
   "display_name": "Python 3.9.7 64-bit ('pyoccenv': conda)",
   "name": "python3"
  },
  "language_info": {
   "codemirror_mode": {
    "name": "ipython",
    "version": 3
   },
   "file_extension": ".py",
   "mimetype": "text/x-python",
   "name": "python",
   "nbconvert_exporter": "python",
   "pygments_lexer": "ipython3",
   "version": "3.9.7"
  },
  "orig_nbformat": 4
 },
 "nbformat": 4,
 "nbformat_minor": 2
}
