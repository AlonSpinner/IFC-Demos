{
 "cells": [
  {
   "cell_type": "markdown",
   "metadata": {},
   "source": [
    "based on [crash course code example](https://wiki.osarch.org/index.php?title=IfcOpenShell_code_examples#Crash_course)\n"
   ]
  },
  {
   "cell_type": "code",
   "execution_count": 1,
   "metadata": {},
   "outputs": [],
   "source": [
    "ifcPath=\"../data/Duplex_A.ifc\""
   ]
  },
  {
   "cell_type": "markdown",
   "metadata": {},
   "source": [
    "# Reading IFC"
   ]
  },
  {
   "cell_type": "code",
   "execution_count": 2,
   "metadata": {},
   "outputs": [],
   "source": [
    "import ifcopenshell\n",
    "ifc = ifcopenshell.open(ifcPath)"
   ]
  },
  {
   "cell_type": "markdown",
   "metadata": {},
   "source": [
    "Let's see what IFC schema we are using:"
   ]
  },
  {
   "cell_type": "code",
   "execution_count": 3,
   "metadata": {},
   "outputs": [
    {
     "name": "stdout",
     "output_type": "stream",
     "text": [
      "IFC2X3\n"
     ]
    }
   ],
   "source": [
    "print(ifc.schema)"
   ]
  },
  {
   "cell_type": "markdown",
   "metadata": {},
   "source": [
    "Let's get the first piece of data in our IFC file:"
   ]
  },
  {
   "cell_type": "code",
   "execution_count": 4,
   "metadata": {},
   "outputs": [
    {
     "name": "stdout",
     "output_type": "stream",
     "text": [
      "#1=IfcOrganization($,'Autodesk Revit Architecture 2011',$,$,$)\n"
     ]
    }
   ],
   "source": [
    "print(ifc.by_id(1))"
   ]
  },
  {
   "cell_type": "markdown",
   "metadata": {},
   "source": [
    "But getting data from beginning to end isn't too meaningful to humans. What if we knew a GlobalId value instead?"
   ]
  },
  {
   "cell_type": "code",
   "execution_count": 5,
   "metadata": {},
   "outputs": [
    {
     "name": "stdout",
     "output_type": "stream",
     "text": [
      "#4131=IfcWallStandardCase('2O2Fr$t4X7Zf8NOew3FNld',#33,'Basic Wall:Interior - Partition (92mm Stud):138584',$,'Basic Wall:Interior - Partition (92mm Stud):128360',#4118,#4130,'138584')\n"
     ]
    }
   ],
   "source": [
    "print(ifc.by_guid('2O2Fr$t4X7Zf8NOew3FNld')) #guid - global unique identifyer"
   ]
  },
  {
   "cell_type": "markdown",
   "metadata": {},
   "source": [
    "If we're not looking specifically for a single element, perhaps let's see how many walls are in our file, and count them:"
   ]
  },
  {
   "cell_type": "code",
   "execution_count": 6,
   "metadata": {},
   "outputs": [
    {
     "name": "stdout",
     "output_type": "stream",
     "text": [
      "57\n"
     ]
    }
   ],
   "source": [
    "walls = ifc.by_type('IfcWall')\n",
    "print(len(walls))"
   ]
  },
  {
   "cell_type": "markdown",
   "metadata": {},
   "source": [
    "wall = ifc.by_type('IfcWall')[0]\n",
    "print(wall.is_a()) # Returns 'IfcWall'"
   ]
  },
  {
   "cell_type": "code",
   "execution_count": 7,
   "metadata": {},
   "outputs": [
    {
     "name": "stdout",
     "output_type": "stream",
     "text": [
      "IfcWallStandardCase\n"
     ]
    }
   ],
   "source": [
    "wall = ifc.by_type('IfcWall')[0]\n",
    "print(wall.is_a()) # Returns 'IfcWall'"
   ]
  },
  {
   "cell_type": "markdown",
   "metadata": {},
   "source": [
    "You can also test if it is a certain class, as well as check for parent classes too:"
   ]
  },
  {
   "cell_type": "code",
   "execution_count": 8,
   "metadata": {},
   "outputs": [
    {
     "name": "stdout",
     "output_type": "stream",
     "text": [
      "True\n",
      "True\n",
      "False\n"
     ]
    }
   ],
   "source": [
    "print(wall.is_a('IfcWall')) # Returns True\n",
    "print(wall.is_a('IfcElement')) # Returns True\n",
    "print(wall.is_a('IfcWindow')) # Returns False"
   ]
  },
  {
   "cell_type": "markdown",
   "metadata": {},
   "source": [
    "Let's quickly check the STEP ID of our element:"
   ]
  },
  {
   "cell_type": "code",
   "execution_count": 9,
   "metadata": {},
   "outputs": [
    {
     "name": "stdout",
     "output_type": "stream",
     "text": [
      "4131\n"
     ]
    }
   ],
   "source": [
    "print(wall.id())"
   ]
  },
  {
   "cell_type": "markdown",
   "metadata": {},
   "source": [
    "Let's get some attributes of an element. IFC attributes have a particular order. We can access it just like a list, so let's get the first and third attribute:"
   ]
  },
  {
   "cell_type": "code",
   "execution_count": 10,
   "metadata": {},
   "outputs": [
    {
     "name": "stdout",
     "output_type": "stream",
     "text": [
      "2O2Fr$t4X7Zf8NOew3FNld\n",
      "Basic Wall:Interior - Partition (92mm Stud):138584\n"
     ]
    }
   ],
   "source": [
    "print(wall[0]) # The first attribute is the GlobalId\n",
    "print(wall[2]) # The third attribute is the Name"
   ]
  },
  {
   "cell_type": "markdown",
   "metadata": {},
   "source": [
    "Knowing the order of attributes is boring and technical. We can access them by name too:"
   ]
  },
  {
   "cell_type": "code",
   "execution_count": 11,
   "metadata": {},
   "outputs": [
    {
     "name": "stdout",
     "output_type": "stream",
     "text": [
      "2O2Fr$t4X7Zf8NOew3FNld\n",
      "Basic Wall:Interior - Partition (92mm Stud):138584\n"
     ]
    }
   ],
   "source": [
    "print(wall.GlobalId)\n",
    "print(wall.Name)"
   ]
  },
  {
   "cell_type": "markdown",
   "metadata": {},
   "source": [
    "Getting attributes one by one is tedious. Let's grab them all:"
   ]
  },
  {
   "cell_type": "code",
   "execution_count": 12,
   "metadata": {},
   "outputs": [
    {
     "name": "stdout",
     "output_type": "stream",
     "text": [
      "{'id': 4131, 'type': 'IfcWallStandardCase', 'GlobalId': '2O2Fr$t4X7Zf8NOew3FNld', 'OwnerHistory': #33=IfcOwnerHistory(#32,#2,$,.NOCHANGE.,$,$,$,0), 'Name': 'Basic Wall:Interior - Partition (92mm Stud):138584', 'Description': None, 'ObjectType': 'Basic Wall:Interior - Partition (92mm Stud):128360', 'ObjectPlacement': #4118=IfcLocalPlacement(#38,#4117), 'Representation': #4130=IfcProductDefinitionShape($,$,(#4121,#4129)), 'Tag': '138584'}\n"
     ]
    }
   ],
   "source": [
    "print(wall.get_info()) # Gives us a dictionary of attributes, such as {'id': 8, 'type': 'IfcWall', 'GlobalId': '2_qMTAIHrEYu0vYcqK8cBX', ... }"
   ]
  },
  {
   "cell_type": "code",
   "execution_count": 13,
   "metadata": {},
   "outputs": [
    {
     "name": "stdout",
     "output_type": "stream",
     "text": [
      "{'Pset_WallCommon': {'Reference': 'Basic Wall:Interior - Partition (92mm Stud)', 'LoadBearing': False, 'ExtendToStructure': False, 'IsExternal': False}, 'PSet_Revit_Constraints': {'Location Line': 2, 'Base Constraint': 'Level 1', 'Base Offset': 0.0, 'Base is Attached': False, 'Base Extension Distance': 0.0, 'Top Constraint': 'Up to level: Level 2', 'Unconnected Height': 2.795000000000378, 'Top Offset': -0.3050000000000001, 'Top is Attached': False, 'Top Extension Distance': 0.0, 'Room Bounding': True, 'Related to Mass': False}, 'PSet_Revit_Other': {'InstallationDate': 'InstallationDate', 'SerialNumber': 'SerialNumber', 'WarrantyStartDate': 'WarrantyStartDate', 'BarCode': 'BarCode', 'AssetIdentifier': 'AssetIdentifier', 'TagNumber': 'TagNumber'}, 'PSet_Revit_Phasing': {'Phase Created': 'New Construction'}, 'PSet_Revit_Structural': {'Structural Usage': 0}, 'PSet_Revit_Dimensions': {'Length': 3.791499999999996, 'Area': 10.01448500000069, 'Volume': 1.241796140000085}, 'PSet_Revit_Type_Construction': {'Wrapping at Inserts': 0, 'Wrapping at Ends': 2, 'Width': 0.124, 'Function': 0}, 'PSet_Revit_Type_Graphics': {'Coarse Scale Fill Color': 0}, 'PSet_Revit_Type_Identity Data': {'Manufacturer': 'Manufacturer', 'Assembly Description': '', 'Assembly Code': ''}, 'PSet_Revit_Type_Other': {'AccessibilityPerformance': 'AccessibilityPerformance', 'CodePerformance': 'CodePerformance', 'Color': 'Color', 'Constituents': 'Constituents', 'Features': 'Features', 'Finish': 'Finish', 'Grade': 'Grade', 'Material': 'Material', 'ModelReference': 'ModelReference', 'NominalHeight': 'NominalHeight', 'NominalLength': 'NominalLength', 'NominalWidth': 'NominalWidth', 'ProductionYear': 'ProductionYear', 'Reference': 'Reference', 'Shape': 'Shape', 'Size': 'Size', 'SustainabilityPerformance': 'SustainabilityPerformance', 'WarrantyDescription': 'WarrantyDescription', 'WarrantyDurationLabor': 'WarrantyDurationLabor', 'WarrantyDurationParts': 'WarrantyDurationParts', 'WarrantyGuarantorLabor': 'WarrantyGuarantorLabor', 'WarrantyGuarantorParts': 'WarrantyGuarantorParts', 'ExpectedLife': 'ExpectedLife', 'ReplacementCost': 'ReplacementCost', 'AssetAccountingType': 'FIXED', 'Classification Description': 'Metal-Framed Gypsum Board Fixed Partitions', 'Classification Code': '23-25 40 11 11 11', 'ModelLabel': 'ModelLabel'}}\n"
     ]
    }
   ],
   "source": [
    "import ifcopenshell.util\n",
    "import ifcopenshell.util.element\n",
    "print(ifcopenshell.util.element.get_psets(wall))"
   ]
  },
  {
   "cell_type": "markdown",
   "metadata": {},
   "source": [
    "Some attributes are special, called \"inverse attributes\". They happen when another element is referencing our element. They can reference it for many reasons, like to define a relationship, such as if they create a void in our wall, join our wall, or define a quantity take-off value for our wall, among others. Just treat them like regular attributes:"
   ]
  },
  {
   "cell_type": "code",
   "execution_count": 14,
   "metadata": {},
   "outputs": [
    {
     "name": "stdout",
     "output_type": "stream",
     "text": [
      "(#4135=IfcRelDefinesByProperties('0wjzFZTLX6HAmUbkSg5xMg',#33,$,$,(#4131),#4134), #4186=IfcRelDefinesByProperties('32QEQ3DsT4_wd_$r05AO8y',#33,$,$,(#4131),#4185), #4188=IfcRelDefinesByProperties('1FWy0diTv5M9NoFfMP67OK',#33,$,$,(#4131),#4187), #4190=IfcRelDefinesByProperties('3NNuYaHqT80QOfSp_k9gZ7',#33,$,$,(#4131),#4189), #4192=IfcRelDefinesByProperties('0u6FYoK11ACeOwLbYm7bcm',#33,$,$,(#4131),#4191), #4194=IfcRelDefinesByProperties('08GWwNmmLCEOt0pcgpoO03',#33,$,$,(#4131),#4193), #38538=IfcRelDefinesByProperties('0CpuJJ7wTFA8vmntAxzlqi',#33,$,$,(#4131,#4219,#4508,#4553,#4598,#5642,#5687,#5731,#5859,#5903,#5948,#5992,#6036,#24723,#35199,#35357,#35452,#35497),#4195), #38539=IfcRelDefinesByProperties('15WoIPLkr0IA1HmacUbJIG',#33,$,$,(#4131,#4219,#4508,#4553,#4598,#5642,#5687,#5731,#5859,#5903,#5948,#5992,#6036,#24723,#35199,#35357,#35452,#35497),#4196), #38540=IfcRelDefinesByProperties('1W4LP$v3X95fgY$se$JZOz',#33,$,$,(#4131,#4219,#4508,#4553,#4598,#5642,#5687,#5731,#5859,#5903,#5948,#5992,#6036,#24723,#35199,#35357,#35452,#35497),#4197), #38541=IfcRelDefinesByProperties('2B6lcMYsn0A8Ui2C7t$ukn',#33,$,$,(#4131,#4219,#4508,#4553,#4598,#5642,#5687,#5731,#5859,#5903,#5948,#5992,#6036,#24723,#35199,#35357,#35452,#35497),#4198))\n"
     ]
    }
   ],
   "source": [
    "print(wall.IsDefinedBy)"
   ]
  },
  {
   "cell_type": "markdown",
   "metadata": {},
   "source": [
    "Perhaps we want to see all elements which are referencing our wall?"
   ]
  },
  {
   "cell_type": "code",
   "execution_count": 15,
   "metadata": {},
   "outputs": [
    {
     "name": "stdout",
     "output_type": "stream",
     "text": [
      "[#4135=IfcRelDefinesByProperties('0wjzFZTLX6HAmUbkSg5xMg',#33,$,$,(#4131),#4134), #4186=IfcRelDefinesByProperties('32QEQ3DsT4_wd_$r05AO8y',#33,$,$,(#4131),#4185), #4188=IfcRelDefinesByProperties('1FWy0diTv5M9NoFfMP67OK',#33,$,$,(#4131),#4187), #4190=IfcRelDefinesByProperties('3NNuYaHqT80QOfSp_k9gZ7',#33,$,$,(#4131),#4189), #4192=IfcRelDefinesByProperties('0u6FYoK11ACeOwLbYm7bcm',#33,$,$,(#4131),#4191), #4194=IfcRelDefinesByProperties('08GWwNmmLCEOt0pcgpoO03',#33,$,$,(#4131),#4193), #38298=IfcRelContainedInSpatialStructure('1OnF7j$Fj2cP4Xy3mK4kIj',#33,$,$,(#3797,#3999,#4043,#4087,#4131,#4219,#4287,#4399,#4465,#4508,#4553,#4598,#5165,#5267,#5642,#5903,#6426,#6531,#6652,#6757,#6921,#7025,#8066,#8169,#9021,#21401,#21449,#21497,#21545,#21610,#21658,#21821,#21929,#23671,#23768,#23826,#23884,#23992,#24596,#24680,#24723,#24768,#24813,#32116,#35452,#35497,#36686,#36892,#37325,#37456,#37777,#37864),#39), #38360=IfcRelAssociatesMaterial('0ULqLytwDBjhSuu72Oe7Pr',#33,$,$,(#4131),#4203), #38538=IfcRelDefinesByProperties('0CpuJJ7wTFA8vmntAxzlqi',#33,$,$,(#4131,#4219,#4508,#4553,#4598,#5642,#5687,#5731,#5859,#5903,#5948,#5992,#6036,#24723,#35199,#35357,#35452,#35497),#4195), #38539=IfcRelDefinesByProperties('15WoIPLkr0IA1HmacUbJIG',#33,$,$,(#4131,#4219,#4508,#4553,#4598,#5642,#5687,#5731,#5859,#5903,#5948,#5992,#6036,#24723,#35199,#35357,#35452,#35497),#4196), #38540=IfcRelDefinesByProperties('1W4LP$v3X95fgY$se$JZOz',#33,$,$,(#4131,#4219,#4508,#4553,#4598,#5642,#5687,#5731,#5859,#5903,#5948,#5992,#6036,#24723,#35199,#35357,#35452,#35497),#4197), #38541=IfcRelDefinesByProperties('2B6lcMYsn0A8Ui2C7t$ukn',#33,$,$,(#4131,#4219,#4508,#4553,#4598,#5642,#5687,#5731,#5859,#5903,#5948,#5992,#6036,#24723,#35199,#35357,#35452,#35497),#4198), #38793=IfcRelSpaceBoundary('290ApAb750heqA8d87Kkqf',#33,'1stLevel',$,#1627,#4131,#1690,.PHYSICAL.,.INTERNAL.), #38828=IfcRelSpaceBoundary('3vKNaysxf8Xh_vyXsyKSdW',#33,'1stLevel',$,#2108,#4131,#2281,.PHYSICAL.,.INTERNAL.), #38925=IfcRelConnectsPathElements('3YICn5AxbBEQ$RD873MCDL',#33,$,$,$,#3797,#4131,(),(),.ATSTART.,.ATPATH.)]\n"
     ]
    }
   ],
   "source": [
    "print(ifc.get_inverse(wall))"
   ]
  },
  {
   "cell_type": "markdown",
   "metadata": {},
   "source": [
    "Let's do the opposite, let's see all the elements which our wall references instead:"
   ]
  },
  {
   "cell_type": "code",
   "execution_count": 16,
   "metadata": {},
   "outputs": [
    {
     "name": "stdout",
     "output_type": "stream",
     "text": [
      "[#4131=IfcWallStandardCase('2O2Fr$t4X7Zf8NOew3FNld',#33,'Basic Wall:Interior - Partition (92mm Stud):138584',$,'Basic Wall:Interior - Partition (92mm Stud):128360',#4118,#4130,'138584'), #33=IfcOwnerHistory(#32,#2,$,.NOCHANGE.,$,$,$,0), #32=IfcPersonAndOrganization(#30,#31,$), #30=IfcPerson($,$,'cskender',$,$,$,$,$), #31=IfcOrganization($,'','',$,$), #2=IfcApplication(#1,'2011','Autodesk Revit Architecture 2011','Revit'), #1=IfcOrganization($,'Autodesk Revit Architecture 2011',$,$,$), #4118=IfcLocalPlacement(#38,#4117), #38=IfcLocalPlacement(#25,#37), #25=IfcLocalPlacement(#38273,#24), #38273=IfcLocalPlacement($,#38272), #38272=IfcAxis2Placement3D(#3,$,$), #3=IfcCartesianPoint((0.,0.,0.)), #24=IfcAxis2Placement3D(#3,$,$), #37=IfcAxis2Placement3D(#3,$,$), #4117=IfcAxis2Placement3D(#4116,#9,#8), #4116=IfcCartesianPoint((2.538,-0.4170000000000082,0.)), #9=IfcDirection((0.,0.,1.)), #8=IfcDirection((0.,-1.,0.)), #4130=IfcProductDefinitionShape($,$,(#4121,#4129)), #4121=IfcShapeRepresentation(#27,'Axis','Curve2D',(#4120)), #27=IfcGeometricRepresentationContext($,'Model',3,1.E-009,#26,$), #26=IfcAxis2Placement3D(#3,$,$), #4120=IfcPolyline((#4,#4119)), #4=IfcCartesianPoint((0.,0.)), #4119=IfcCartesianPoint((3.582999999999997,-0.)), #4129=IfcShapeRepresentation(#27,'Body','SweptSolid',(#4126)), #4126=IfcExtrudedAreaSolid(#4124,#4125,#9,2.795000000000196), #4124=IfcRectangleProfileDef(.AREA.,$,#4123,3.582999999999997,0.124), #4123=IfcAxis2Placement2D(#4122,#12), #4122=IfcCartesianPoint((1.791499999999998,-0.)), #12=IfcDirection((-1.,0.)), #4125=IfcAxis2Placement3D(#3,$,$)]\n"
     ]
    }
   ],
   "source": [
    "print(ifc.traverse(wall))"
   ]
  },
  {
   "cell_type": "code",
   "execution_count": 17,
   "metadata": {},
   "outputs": [
    {
     "name": "stdout",
     "output_type": "stream",
     "text": [
      "[#4131=IfcWallStandardCase('2O2Fr$t4X7Zf8NOew3FNld',#33,'Basic Wall:Interior - Partition (92mm Stud):138584',$,'Basic Wall:Interior - Partition (92mm Stud):128360',#4118,#4130,'138584'), #33=IfcOwnerHistory(#32,#2,$,.NOCHANGE.,$,$,$,0), #4118=IfcLocalPlacement(#38,#4117), #4130=IfcProductDefinitionShape($,$,(#4121,#4129))]\n"
     ]
    }
   ],
   "source": [
    "print(ifc.traverse(wall, max_levels=1)) # Or, let's just go down one level deep"
   ]
  },
  {
   "cell_type": "markdown",
   "metadata": {},
   "source": [
    "If you want to modify data, just assign it to the relevant attribute:"
   ]
  },
  {
   "cell_type": "code",
   "execution_count": 18,
   "metadata": {},
   "outputs": [],
   "source": [
    "wall.Name = 'My new wall name'"
   ]
  },
  {
   "cell_type": "markdown",
   "metadata": {},
   "source": [
    "You can also generate new GlobalIds:"
   ]
  },
  {
   "cell_type": "code",
   "execution_count": 19,
   "metadata": {},
   "outputs": [],
   "source": [
    "wall.GlobalId = ifcopenshell.guid.new()"
   ]
  },
  {
   "cell_type": "markdown",
   "metadata": {},
   "source": [
    "After modifying some IFC data, you can save it to a new IFC-SPF file:\n",
    "\n",
    "#ifc.write('/path/to/a/new.ifc')"
   ]
  },
  {
   "cell_type": "markdown",
   "metadata": {},
   "source": [
    "# Writing IFC"
   ]
  },
  {
   "cell_type": "markdown",
   "metadata": {},
   "source": [
    "You can generate a new IFC from scratch too, instead of reading an existing one:"
   ]
  },
  {
   "cell_type": "code",
   "execution_count": 20,
   "metadata": {},
   "outputs": [],
   "source": [
    "#ifc = ifcopenshell.file()\n",
    "# Or if you want a particular schema:\n",
    "ifc = ifcopenshell.file(schema='IFC4')"
   ]
  },
  {
   "cell_type": "markdown",
   "metadata": {},
   "source": [
    "You can create new IFC elements, and add it either to an existing or newly created IFC file object:"
   ]
  },
  {
   "cell_type": "code",
   "execution_count": 21,
   "metadata": {},
   "outputs": [
    {
     "name": "stdout",
     "output_type": "stream",
     "text": [
      "[#1=IfcWall($,$,$,$,$,$,$,$,$)]\n"
     ]
    }
   ],
   "source": [
    "new_wall = ifc.createIfcWall() # Will return #1=IfcWall($,$,$,$,$,$,$,$,$) - notice all of the attributes are blank!\n",
    "print(ifc.by_type('IfcWall')) # Will return a list with our wall in it: [#1=IfcWall($,$,$,$,$,$,$,$,$)]"
   ]
  },
  {
   "cell_type": "markdown",
   "metadata": {},
   "source": [
    "Alternatively, you can also use this way to create new elements:"
   ]
  },
  {
   "cell_type": "code",
   "execution_count": 22,
   "metadata": {},
   "outputs": [
    {
     "data": {
      "text/plain": [
       "#2=IfcWall($,$,$,$,$,$,$,$,$)"
      ]
     },
     "execution_count": 22,
     "metadata": {},
     "output_type": "execute_result"
    }
   ],
   "source": [
    "ifc.create_entity('IfcWall')"
   ]
  },
  {
   "cell_type": "markdown",
   "metadata": {},
   "source": [
    "Specifying more arguments lets you fill in attributes while creating the element instead of assigning them separately. You specify them in the order of the attributes."
   ]
  },
  {
   "cell_type": "code",
   "execution_count": 23,
   "metadata": {},
   "outputs": [
    {
     "data": {
      "text/plain": [
       "#3=IfcWall('1aknkbxZvEiusd_A3Iz70m',$,$,$,$,$,$,$,$)"
      ]
     },
     "execution_count": 23,
     "metadata": {},
     "output_type": "execute_result"
    }
   ],
   "source": [
    "ifc.create_entity('IfcWall', ifcopenshell.guid.new()) # Gives us #1=IfcWall('0EI0MSHbX9gg8Fxwar7lL8',$,$,$,$,$,$,$,$)"
   ]
  },
  {
   "cell_type": "markdown",
   "metadata": {},
   "source": [
    "Again, knowing the order of attributes is difficult, so you can use keyword arguments instead:"
   ]
  },
  {
   "cell_type": "code",
   "execution_count": 24,
   "metadata": {},
   "outputs": [
    {
     "data": {
      "text/plain": [
       "#4=IfcWall('1fTqQr2AX2cugLWX7pIVw8',$,'Wall Name',$,$,$,$,$,$)"
      ]
     },
     "execution_count": 24,
     "metadata": {},
     "output_type": "execute_result"
    }
   ],
   "source": [
    "ifc.create_entity('IfcWall', GlobalId=ifcopenshell.guid.new(), Name='Wall Name') # Gives us #1=IfcWall('0EI0MSHbX9gg8Fxwar7lL8',$,'Wall Name',$,$,$,$,$,$)"
   ]
  },
  {
   "cell_type": "markdown",
   "metadata": {},
   "source": [
    "Sometimes, it's easier to expand a dictionary:"
   ]
  },
  {
   "cell_type": "code",
   "execution_count": 25,
   "metadata": {},
   "outputs": [
    {
     "data": {
      "text/plain": [
       "#5=IfcWall('14074mHgn4I83eipnRgo8R',$,'Wall Name',$,$,$,$,$,$)"
      ]
     },
     "execution_count": 25,
     "metadata": {},
     "output_type": "execute_result"
    }
   ],
   "source": [
    "data = {\n",
    "    'GlobalId': ifcopenshell.guid.new(),\n",
    "    'Name': 'Wall Name'\n",
    "}\n",
    "ifc.create_entity('IfcWall', **data)"
   ]
  },
  {
   "cell_type": "markdown",
   "metadata": {},
   "source": [
    "Some attributes of an element aren't just text, they may be a reference to another element. Easy:"
   ]
  },
  {
   "cell_type": "code",
   "execution_count": 26,
   "metadata": {},
   "outputs": [],
   "source": [
    "wall = ifc.createIfcWall()\n",
    "wall.OwnerHistory = ifc.createIfcOwnerHistory()"
   ]
  },
  {
   "cell_type": "markdown",
   "metadata": {},
   "source": [
    "What if we already have an element from one IFC file and want to add it to another?"
   ]
  },
  {
   "cell_type": "code",
   "execution_count": 36,
   "metadata": {},
   "outputs": [
    {
     "data": {
      "text/plain": [
       "#1=IfcWall($,$,$,$,$,$,$,$,$)"
      ]
     },
     "execution_count": 36,
     "metadata": {},
     "output_type": "execute_result"
    }
   ],
   "source": [
    "wall = ifc.by_type('IfcWall')[0]\n",
    "new_ifc = ifcopenshell.file(schema='IFC4')\n",
    "new_ifc.add(wall)\n"
   ]
  },
  {
   "cell_type": "markdown",
   "metadata": {},
   "source": [
    "Fed up with an object? Let's delete it:"
   ]
  },
  {
   "cell_type": "code",
   "execution_count": 38,
   "metadata": {},
   "outputs": [
    {
     "data": {
      "text/plain": [
       "<ifcopenshell.file.file at 0x7f973fcedcd0>"
      ]
     },
     "execution_count": 38,
     "metadata": {},
     "output_type": "execute_result"
    }
   ],
   "source": [
    "#new_ifc.remove(wall) #this isnt working..."
   ]
  },
  {
   "cell_type": "markdown",
   "metadata": {},
   "source": [
    "# Geometrey\n",
    "\n",
    "The usage of IfcOpenShell for geometry processing is currently considered to be moderate to advanced. There are two approaches to processing geometry. One approach is to traverse the Representation attribute of the IFC element, and parse it yourself. This requires an in-depth understanding of IFC geometric representations, as well as its many caveats with units and transformations, but can be very simple to extract specific types of geometry. The second approach is to use IfcOpenShell's shape processing features, which will convert almost all IFC representations into a triangulated mesh. Regardless of the source format, once it is in a mesh representation, you may use standard mesh geometry processing algorithms to analyse the geometry. This makes it easier to write generic code for any representation, but may be harder to extract certain geometric features."
   ]
  },
  {
   "cell_type": "code",
   "execution_count": 4,
   "metadata": {},
   "outputs": [
    {
     "name": "stdout",
     "output_type": "stream",
     "text": [
      "went over 285 shapes\n",
      "verts:\n",
      "[[1.1350999999999587, 0.02700000000000009, 0.0], [1.1350999999999587, 0.02700000000000009, 0.2880000000000125], [-2.220446049250313e-16, 0.02700000000000009, 0.2880000000000125], [-2.220446049250313e-16, 0.02700000000000009, 0.0], [-2.220446049250313e-16, -0.02700000000000009, 0.2880000000000125], [-2.220446049250313e-16, -0.02700000000000009, 0.0], [1.1350999999999587, -0.02700000000000009, 0.2880000000000125], [1.1350999999999587, -0.02700000000000009, 0.0]]\n",
      "faces:\n",
      "[[1, 0, 3], [2, 1, 3], [2, 3, 5], [4, 2, 5], [4, 5, 7], [6, 4, 7], [6, 7, 0], [1, 6, 0], [5, 3, 0], [7, 5, 0], [1, 2, 4], [1, 4, 6]]\n"
     ]
    }
   ],
   "source": [
    "import multiprocessing\n",
    "import ifcopenshell\n",
    "import ifcopenshell.geom\n",
    "\n",
    "ifcPath=\"../data/Duplex_A.ifc\"\n",
    "\n",
    "try:\n",
    "    ifc_file = ifcopenshell.open(\"../data/Duplex_A.ifc\")\n",
    "except:\n",
    "    print(ifcopenshell.get_log())\n",
    "else:\n",
    "    settings = ifcopenshell.geom.settings()\n",
    "    iterator = ifcopenshell.geom.iterator(settings, ifc_file, multiprocessing.cpu_count())\n",
    "    count = 0\n",
    "    if iterator.initialize():\n",
    "        while iterator.next():\n",
    "            count = count +1\n",
    "            shape = iterator.get()\n",
    "            element = ifc_file.by_guid(shape.guid)\n",
    "            faces = shape.geometry.faces # Indices of vertices per triangle face e.g. [f1v1, f1v2, f1v3, f2v1, f2v2, f2v3, ...]\n",
    "            verts = shape.geometry.verts # X Y Z of vertices in flattened list e.g. [v1x, v1y, v1z, v2x, v2y, v2z, ...]\n",
    "            materials = shape.geometry.materials # Material names and colour style information that are relevant to this shape\n",
    "            material_ids = shape.geometry.material_ids # Indices of material applied per triangle face e.g. [f1m, f2m, ...]\n",
    "\n",
    "            # Since the lists are flattened, you may prefer to group them per face like so depending on your geometry kernel\n",
    "            grouped_verts = [[verts[i], verts[i + 1], verts[i + 2]] for i in range(0, len(verts), 3)]\n",
    "            grouped_faces = [[faces[i], faces[i + 1], faces[i + 2]] for i in range(0, len(faces), 3)]\n",
    "    \n",
    "    print('went over {} shapes'.format(count))\n",
    "\n",
    "print('verts:')\n",
    "print(grouped_verts)\n",
    "print('faces:')\n",
    "print(grouped_faces)"
   ]
  }
 ],
 "metadata": {
  "interpreter": {
   "hash": "07e88f05ead42013da3bee1e362d4d97da7eadb89a5f20d908099e8ea5ceb2e9"
  },
  "kernelspec": {
   "display_name": "Python 3.7.11 64-bit ('pyoccenv': conda)",
   "name": "python3"
  },
  "language_info": {
   "codemirror_mode": {
    "name": "ipython",
    "version": 3
   },
   "file_extension": ".py",
   "mimetype": "text/x-python",
   "name": "python",
   "nbconvert_exporter": "python",
   "pygments_lexer": "ipython3",
   "version": "3.7.12"
  },
  "orig_nbformat": 4
 },
 "nbformat": 4,
 "nbformat_minor": 2
}
