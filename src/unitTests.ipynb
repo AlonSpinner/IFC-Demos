{
 "cells": [
  {
   "cell_type": "markdown",
   "metadata": {},
   "source": [
    "# Imports"
   ]
  },
  {
   "cell_type": "code",
   "execution_count": 1,
   "metadata": {},
   "outputs": [],
   "source": [
    "import occCamera\n",
    "import occGeomtrey\n",
    "import numpy as np\n",
    "import ifcopenshell, ifcopenshell.geom\n",
    "from OCC.Core.Quantity import Quantity_Color, Quantity_TOC_RGB\n",
    "from OCC.Core.Graphic3d import Graphic3d_BufferType\n",
    "from PIL import Image\n",
    "from IPython.display import display"
   ]
  },
  {
   "cell_type": "markdown",
   "metadata": {},
   "source": [
    "# Test Transforms"
   ]
  },
  {
   "cell_type": "markdown",
   "metadata": {},
   "source": [
    "<span style='color:orange'>\n",
    "First, converting to gpTrsf and back:\n",
    "</span>"
   ]
  },
  {
   "cell_type": "code",
   "execution_count": 3,
   "metadata": {},
   "outputs": [
    {
     "name": "stdout",
     "output_type": "stream",
     "text": [
      "[[ 0.70710678 -0.70710678  0.          1.        ]\n",
      " [ 0.70710678  0.70710678  0.          2.        ]\n",
      " [ 0.          0.          1.          3.        ]\n",
      " [ 0.          0.          0.          1.        ]]\n",
      "[[0. 0. 0. 0.]\n",
      " [0. 0. 0. 0.]\n",
      " [0. 0. 0. 0.]\n",
      " [0. 0. 0. 0.]]\n"
     ]
    }
   ],
   "source": [
    "R = occGeomtrey.eul2R_zyx(0,0,np.pi/4) \n",
    "t = np.array([1,2,3])\n",
    "T = occGeomtrey.TfromRt(R,t)\n",
    "gpT = occGeomtrey.T2gpTrsf(T)\n",
    "\n",
    "print(T)\n",
    "print(occGeomtrey.gpTrsf2T(gpT)-T)"
   ]
  },
  {
   "cell_type": "markdown",
   "metadata": {},
   "source": [
    "<span style='color:orange'>\n",
    "Nice, Now I want to show you that you can multiple gpTrsf\n",
    "</span>"
   ]
  },
  {
   "cell_type": "code",
   "execution_count": 4,
   "metadata": {},
   "outputs": [
    {
     "name": "stdout",
     "output_type": "stream",
     "text": [
      "[[ 0.     -1.      0.      0.2929]\n",
      " [ 1.      0.      0.      4.1213]\n",
      " [ 0.      0.      1.      6.    ]\n",
      " [ 0.      0.      0.      1.    ]]\n",
      "[[0. 0. 0. 0.]\n",
      " [0. 0. 0. 0.]\n",
      " [0. 0. 0. 0.]\n",
      " [0. 0. 0. 0.]]\n"
     ]
    }
   ],
   "source": [
    "R1 = occGeomtrey.eul2R_zyx(0,0,np.pi/4) \n",
    "t1 = np.array([0,0,0])\n",
    "T1 = occGeomtrey.TfromRt(R1,t)\n",
    "\n",
    "R2 = np.eye(3)\n",
    "t2 = np.array([1,2,3])\n",
    "T2 = occGeomtrey.TfromRt(R1,t)\n",
    "\n",
    "T21 = T2 @ T1\n",
    "\n",
    "gpT1 = occGeomtrey.T2gpTrsf(T1)\n",
    "gpT2 = occGeomtrey.T2gpTrsf(T2)\n",
    "gpT21 = gpT2*gpT1\n",
    "\n",
    "print(T21.round(4))\n",
    "print(np.round(occGeomtrey.gpTrsf2T(gpT21)-T21,4))"
   ]
  },
  {
   "cell_type": "markdown",
   "metadata": {},
   "source": [
    "<span style='color:orange'>\n",
    "We can also invert transforms\n",
    "</span>"
   ]
  },
  {
   "cell_type": "code",
   "execution_count": 5,
   "metadata": {},
   "outputs": [
    {
     "name": "stdout",
     "output_type": "stream",
     "text": [
      "[[ 1. -0.  0.  0.]\n",
      " [-0.  1.  0.  0.]\n",
      " [ 0.  0.  1.  0.]\n",
      " [ 0.  0.  0.  1.]]\n",
      "[[ 0.  0.  0. -0.]\n",
      " [ 0.  0.  0. -0.]\n",
      " [ 0.  0.  0.  0.]\n",
      " [ 0.  0.  0.  0.]]\n"
     ]
    }
   ],
   "source": [
    "R = occGeomtrey.eul2R_zyx(0,0,np.pi/4) \n",
    "t = np.array([0,0,1])\n",
    "T = occGeomtrey.TfromRt(R,t)\n",
    "\n",
    "invT = occGeomtrey.InverseTransform(T)\n",
    "print(np.round(invT*T,4))\n",
    "\n",
    "gpT = occGeomtrey.T2gpTrsf(T)\n",
    "gpT.Invert()\n",
    "\n",
    "print(np.round(occGeomtrey.gpTrsf2T(gpT)-invT,4))"
   ]
  },
  {
   "cell_type": "markdown",
   "metadata": {},
   "source": [
    "<span style='color:orange'>\n",
    "gpTrsf is an object from occ... lets see what we can do with it:\n",
    "</span>"
   ]
  },
  {
   "cell_type": "code",
   "execution_count": 6,
   "metadata": {},
   "outputs": [
    {
     "name": "stdout",
     "output_type": "stream",
     "text": [
      "VectorialPart()\n",
      "[[ 0.70710678 -0.70710678  0.        ]\n",
      " [ 0.70710678  0.70710678  0.        ]]\n",
      "TranslationPart().Coord()\n",
      "(1.0, 2.0, 3.0)\n",
      "Transforms()\n",
      "(1.0, 2.0, 3.0)\n",
      "GetRotation().GetMatrix()\n",
      "[[ 0.70710678 -0.70710678  0.        ]\n",
      " [ 0.70710678  0.70710678  0.        ]\n",
      " [ 0.          0.          1.        ]]\n",
      "Value(1,1)\n",
      "0.7071067811865476\n"
     ]
    }
   ],
   "source": [
    "R = occGeomtrey.eul2R_zyx(0,0,np.pi/4) \n",
    "t = np.array([1,2,3])\n",
    "T = occGeomtrey.TfromRt(R,t)\n",
    "gpT = occGeomtrey.T2gpTrsf(T)\n",
    "\n",
    "print('VectorialPart()')\n",
    "print(occGeomtrey.gpMattoNumpy(gpT.VectorialPart()))\n",
    "\n",
    "print('TranslationPart().Coord()')\n",
    "print(gpT.TranslationPart().Coord())\n",
    "\n",
    "print('Transforms()')\n",
    "print(gpT.Transforms())\n",
    "\n",
    "print('GetRotation().GetMatrix()')\n",
    "print(occGeomtrey.gpMat3toNumpy(gpT.GetRotation().GetMatrix()))\n",
    "\n",
    "print('Value(1,1)')\n",
    "print(gpT.Value(1,1))"
   ]
  },
  {
   "cell_type": "markdown",
   "metadata": {},
   "source": [
    "# Test Camera Transforms"
   ]
  },
  {
   "cell_type": "code",
   "execution_count": 7,
   "metadata": {},
   "outputs": [
    {
     "name": "stdout",
     "output_type": "stream",
     "text": [
      " ###### 3D rendering pipe initialisation #####\n",
      "Display3d class initialization starting ...\n",
      "Aspect_DisplayConnection created.\n",
      "Graphic_Driver created.\n",
      "V3d_Viewer created.\n",
      "AIS_InteractiveContext created.\n",
      "V3d_View created\n",
      "Display3d class successfully initialized.\n",
      " ########################################\n",
      "Transform:\n",
      "[[ 1.  0. -0.  0.]\n",
      " [ 0. -1. -0. -0.]\n",
      " [-0.  0. -1.  6.]\n",
      " [ 0.  0.  0.  1.]]\n",
      "Eye:(2.4355994322017748e-15, -1.9984014443252818e-15, 6.0)\n",
      "Direction:(-7.81734838230998e-17, -5.551115123125783e-17, -1.0)\n"
     ]
    },
    {
     "data": {
      "image/png": "[encoded data removed]",
      "text/plain": [
       "<PIL.Image.Image image mode=RGB size=640x480 at 0x7F5CEBE0DFA0>"
      ]
     },
     "metadata": {},
     "output_type": "display_data"
    }
   ],
   "source": [
    "offscreen_renderer = occCamera.offlineRenderIFC()\n",
    "cam = offscreen_renderer.View.Camera()\n",
    "\n",
    "pose = np.array([0,0,6,np.pi,0,0])\n",
    "occCamera.moveCam2Pose(cam,pose)\n",
    "print(f'Transform:\\n{occCamera.getCameraTransform(cam).round(4)}')\n",
    "print(f'Eye:{cam.Eye().Coord()}')\n",
    "print(f'Direction:{cam.Direction().Coord()}')\n",
    "\n",
    "data = offscreen_renderer.GetImageData(640, 480, Graphic3d_BufferType.Graphic3d_BT_RGB) #There is also: Graphic3d_BT_Depth!\n",
    "img = Image.frombytes('RGB', (640, 480), data)\n",
    "display(img)"
   ]
  },
  {
   "cell_type": "markdown",
   "metadata": {},
   "source": [
    "# Test Camera Intrinsics"
   ]
  },
  {
   "cell_type": "code",
   "execution_count": 19,
   "metadata": {},
   "outputs": [
    {
     "name": "stdout",
     "output_type": "stream",
     "text": [
      " ###### 3D rendering pipe initialisation #####\n",
      "Display3d class initialization starting ...\n",
      "Aspect_DisplayConnection created.\n",
      "Graphic_Driver created.\n",
      "V3d_Viewer created.\n",
      "AIS_InteractiveContext created.\n",
      "V3d_View created\n",
      "Display3d class successfully initialized.\n",
      " ########################################\n",
      "[[ 0.05363987  0.          0.         -0.        ]\n",
      " [ 0.          0.07151983  0.         -0.        ]\n",
      " [ 0.          0.         -0.06425702 -1.99999684]\n",
      " [ 0.          0.          0.          1.        ]]\n"
     ]
    }
   ],
   "source": [
    "#occ has world coordiante system, projection coordiante system, and view coordinate system\n",
    "offscreen_renderer = occCamera.offlineRenderIFC()\n",
    "cam = offscreen_renderer.View.Camera()\n",
    "P0 = occCamera.getProjectionMatrix(cam)\n",
    "print(P0)"
   ]
  },
  {
   "cell_type": "code",
   "execution_count": 18,
   "metadata": {},
   "outputs": [
    {
     "name": "stdout",
     "output_type": "stream",
     "text": [
      "ZFocus = 1.0\n",
      "ZFocusType = 1\n",
      "ZNear = 15.56245289540218\n",
      "ZFar = 46.687456914661134\n",
      "ViewDimensions().Coord() = (37.285698280635934, 27.964273710476952, 31.125004019258952)\n",
      "Center().Coord() = (0.0, 0.0, -1.174999713897705)\n",
      "Distance() = 31.124953474520186\n",
      "Scale() = 27.964273710476952\n",
      "Aspect() = 1.3333333333333333\n",
      "IOD() = 0.05\n",
      "AxialScale().Coord() = (1.0, 1.0, 1.0)\n",
      "IOD() = 0.05\n",
      "ProjectionType() = 0\n"
     ]
    }
   ],
   "source": [
    "# Get stereographic focus value. returns absolute or relative stereographic focus value depending on its definition type.\n",
    "print(f'ZFocus = {cam.ZFocus()}')\n",
    "# Get stereographic focus definition type. returns definition type used for stereographic focus.\n",
    "print(f'ZFocusType = {cam.ZFocusType()}')\n",
    "#Get the near z-clipping plane position. returns the distance of the plane from the eye.\n",
    "print(f'ZNear = {cam.ZNear()}')\n",
    "#Get the far z-clipping plane position. returns the distance of the plane from the eye.\n",
    "print(f'ZFar = {cam.ZFar()}')\n",
    "#Calculate view plane size at center (target) point and distance between zfar and znear planes. returns values in form of gp_pnt (width, height, depth).\n",
    "print(f'ViewDimensions().Coord() = {cam.ViewDimensions().Coord()}')\n",
    "# Get center of the camera, e.g. the point where camera looks at. this point is computed as eye() translated along direction() at distance(). returns the point where the camera looks at.\n",
    "print(f'Center().Coord() = {cam.Center().Coord()}')\n",
    "# Get distance of Eye from camera Center\n",
    "print(f'Distance() = {cam.Distance()}')\n",
    "# camera scale factor.\n",
    "print(f'Scale() = {cam.Scale()}')\n",
    "# Get camera display ratio. returns display ratio.\n",
    "print(f'Aspect() = {cam.Aspect()}')\n",
    "# Get intraocular distance value. returns absolute or relative iod value depending on its definition type.\n",
    "print(f'IOD() = {cam.IOD()}')\n",
    "# Get camera axial scale. returns camera’s axial scale.\n",
    "print(f'AxialScale().Coord() = {cam.AxialScale().Coord()}')\n",
    "# Get Intraocular distance value.\n",
    "print(f'IOD() = {cam.IOD()}')\n",
    "#get ProjectionType. Orthographic == 0, Prespective == 1\n",
    "print(f'ProjectionType() = {cam.ProjectionType()}')"
   ]
  },
  {
   "cell_type": "code",
   "execution_count": 7,
   "metadata": {},
   "outputs": [
    {
     "name": "stdout",
     "output_type": "stream",
     "text": [
      "P0 = \n",
      "[[ 0.05363987  0.          0.         -0.        ]\n",
      " [ 0.          0.07151983  0.         -0.        ]\n",
      " [ 0.          0.         -0.06425702 -1.99999684]\n",
      " [ 0.          0.          0.          1.        ]]\n",
      "P1 = \n",
      "[[ 0.06666667  0.          0.         -0.        ]\n",
      " [ 0.          0.03333333  0.         -0.        ]\n",
      " [ 0.          0.         -0.05       -1.5       ]\n",
      " [ 0.          0.          0.          1.        ]]\n",
      "P1[0,0] = 0.06666666666666667\n",
      "P1[1,1] = 0.03333333333333333\n",
      "P1[2,2] = -0.05\n",
      "P1[2,3] = -1.5\n"
     ]
    }
   ],
   "source": [
    "cam.SetDistance(10.0)\n",
    "cam.SetFOVy(100.0)\n",
    "cam.SetZFocus(cam.FocusType_Absolute,55.0)\n",
    "cam.SetIOD(cam.IODType_Absolute,100)\n",
    "n,f = 10, 50\n",
    "cam.SetZRange(n,f) #affects P1[2,2] P1[3,2]\n",
    "cam.SetScale(30.0) #affects P1[1,1] P1[0,0]\n",
    "cam.SetAspect(0.5) #affects P1[1,1] P1[0,0]\n",
    "# cam.SetTile\n",
    "\n",
    "P1 = occCamera.getProjectionMatrix(cam)\n",
    "print('P0 = ')\n",
    "print(P0)\n",
    "print('P1 = ')\n",
    "print(P1)\n",
    "\n",
    "print(f'P1[0,0] = {2/cam.Scale()}') \n",
    "print(f'P1[1,1] = {cam.Aspect()*P1[0,0]}') \n",
    "print(f'P1[2,2] = {-2/(f-n)}') \n",
    "print(f'P1[2,3] = {-(f+n)/(f-n)}') "
   ]
  },
  {
   "cell_type": "code",
   "execution_count": 195,
   "metadata": {},
   "outputs": [
    {
     "data": {
      "image/png": "[encoded data removed]",
      "text/plain": [
       "<PIL.Image.Image image mode=RGB size=240x480 at 0x7F0422817D00>"
      ]
     },
     "metadata": {},
     "output_type": "display_data"
    }
   ],
   "source": [
    "pose = np.array([0,0,6,np.pi,0,0])\n",
    "occCamera.moveCam2Pose(cam,pose)\n",
    "h = 480\n",
    "w = round(h * cam.Aspect())\n",
    "data = offscreen_renderer.GetImageData(w, h, Graphic3d_BufferType.Graphic3d_BT_RGB)\n",
    "img = Image.frombytes('RGB', (w, h), data)\n",
    "display(img)"
   ]
  },
  {
   "cell_type": "markdown",
   "metadata": {},
   "source": [
    "[According to Thomas, there is no direct method to set the projection matrix](https://github.com/tpaviot/pythonocc-core/issues/1064)\n",
    "\n",
    "We have to make a work-around using these set methods:\n",
    "cam.SetDistance\n",
    "cam.SetFOVy\n",
    "cam.SetZFocus\n",
    "cam.SetZRange\n",
    "cam.SetIOD\n",
    "cam.SetScale\n",
    "cam.SetTile\n",
    "cam.SetAspect"
   ]
  },
  {
   "cell_type": "code",
   "execution_count": 58,
   "metadata": {},
   "outputs": [
    {
     "name": "stdout",
     "output_type": "stream",
     "text": [
      "0.4142135623730951\n"
     ]
    },
    {
     "data": {
      "text/plain": [
       "-46.68730000016064"
      ]
     },
     "execution_count": 58,
     "metadata": {},
     "output_type": "execute_result"
    }
   ],
   "source": [
    "import math as m\n",
    "print(1/(1/m.tan(m.pi/8)))\n",
    "n = 15.56245\n",
    "f = 46.68745\n",
    "\n",
    "-(n+f)/(f-n)\n",
    "-(2*f*n)/(f-n)\n",
    "\n"
   ]
  },
  {
   "cell_type": "markdown",
   "metadata": {},
   "source": [
    "# Test Laser Scanner"
   ]
  },
  {
   "cell_type": "code",
   "execution_count": 19,
   "metadata": {},
   "outputs": [],
   "source": [
    "settings = ifcopenshell.geom.settings()\n",
    "settings.set(settings.USE_PYTHON_OPENCASCADE, True)\n",
    "settings.set(settings.USE_WORLD_COORDS, True)\n",
    "\n",
    "model = ifcopenshell.open('../data/IfcOpenHouse_IFC4.ifc')\n",
    "walls = model.by_type('IfcWall')\n",
    "\n",
    "shape = ifcopenshell.geom.create_shape(settings, walls[0]).geometry"
   ]
  },
  {
   "cell_type": "code",
   "execution_count": 45,
   "metadata": {},
   "outputs": [
    {
     "name": "stdout",
     "output_type": "stream",
     "text": [
      "<class 'Geom_Surface'>\n"
     ]
    }
   ],
   "source": [
    "topo = OCCUtils.Topo(shape)\n",
    "faces = topo.faces()\n",
    "for face in faces:\n",
    "    surf = OCC.Core.BRep.BRep_Tool.Surface(face)\n",
    "print(surf)"
   ]
  },
  {
   "cell_type": "code",
   "execution_count": 8,
   "metadata": {},
   "outputs": [
    {
     "name": "stdout",
     "output_type": "stream",
     "text": [
      "<ifcopenshell.ifcopenshell_wrapper.triangulation_element_double_precision; proxy of <Swig Object of type 'IfcGeom::TriangulationElement< double,double > *' at 0x7f0423e9c240> >\n",
      "<ifcopenshell.ifcopenshell_wrapper.triangulation_element_double_precision; proxy of <Swig Object of type 'IfcGeom::TriangulationElement< double,double > *' at 0x7f0423e9c690> >\n",
      "<ifcopenshell.ifcopenshell_wrapper.triangulation_element_double_precision; proxy of <Swig Object of type 'IfcGeom::TriangulationElement< double,double > *' at 0x7f0423e9c6c0> >\n",
      "<ifcopenshell.ifcopenshell_wrapper.triangulation_element_double_precision; proxy of <Swig Object of type 'IfcGeom::TriangulationElement< double,double > *' at 0x7f0423e9c480> >\n",
      "<ifcopenshell.ifcopenshell_wrapper.triangulation_element_double_precision; proxy of <Swig Object of type 'IfcGeom::TriangulationElement< double,double > *' at 0x7f0423e9c0c0> >\n",
      "<ifcopenshell.ifcopenshell_wrapper.triangulation_element_double_precision; proxy of <Swig Object of type 'IfcGeom::TriangulationElement< double,double > *' at 0x7f0423e9c4b0> >\n",
      "<ifcopenshell.ifcopenshell_wrapper.triangulation_element_double_precision; proxy of <Swig Object of type 'IfcGeom::TriangulationElement< double,double > *' at 0x7f0423e9c360> >\n",
      "<ifcopenshell.ifcopenshell_wrapper.triangulation_element_double_precision; proxy of <Swig Object of type 'IfcGeom::TriangulationElement< double,double > *' at 0x7f0423e9c900> >\n",
      "<ifcopenshell.ifcopenshell_wrapper.triangulation_element_double_precision; proxy of <Swig Object of type 'IfcGeom::TriangulationElement< double,double > *' at 0x7f0423e9c8a0> >\n",
      "<ifcopenshell.ifcopenshell_wrapper.triangulation_element_double_precision; proxy of <Swig Object of type 'IfcGeom::TriangulationElement< double,double > *' at 0x7f0423e95060> >\n",
      "<ifcopenshell.ifcopenshell_wrapper.triangulation_element_double_precision; proxy of <Swig Object of type 'IfcGeom::TriangulationElement< double,double > *' at 0x7f0423e95360> >\n",
      "<ifcopenshell.ifcopenshell_wrapper.triangulation_element_double_precision; proxy of <Swig Object of type 'IfcGeom::TriangulationElement< double,double > *' at 0x7f0423e953c0> >\n",
      "<ifcopenshell.ifcopenshell_wrapper.triangulation_element_double_precision; proxy of <Swig Object of type 'IfcGeom::TriangulationElement< double,double > *' at 0x7f0423e95270> >\n",
      "<ifcopenshell.ifcopenshell_wrapper.triangulation_element_double_precision; proxy of <Swig Object of type 'IfcGeom::TriangulationElement< double,double > *' at 0x7f0423e95090> >\n",
      "<ifcopenshell.ifcopenshell_wrapper.triangulation_element_double_precision; proxy of <Swig Object of type 'IfcGeom::TriangulationElement< double,double > *' at 0x7f0423e95660> >\n",
      "<ifcopenshell.ifcopenshell_wrapper.triangulation_element_double_precision; proxy of <Swig Object of type 'IfcGeom::TriangulationElement< double,double > *' at 0x7f0423e95510> >\n",
      "<ifcopenshell.ifcopenshell_wrapper.triangulation_element_double_precision; proxy of <Swig Object of type 'IfcGeom::TriangulationElement< double,double > *' at 0x7f0423e9c540> >\n",
      "<ifcopenshell.ifcopenshell_wrapper.triangulation_element_double_precision; proxy of <Swig Object of type 'IfcGeom::TriangulationElement< double,double > *' at 0x7f04b068ade0> >\n",
      "<ifcopenshell.ifcopenshell_wrapper.triangulation_element_double_precision; proxy of <Swig Object of type 'IfcGeom::TriangulationElement< double,double > *' at 0x7f0423e9c4e0> >\n",
      "<ifcopenshell.ifcopenshell_wrapper.triangulation_element_double_precision; proxy of <Swig Object of type 'IfcGeom::TriangulationElement< double,double > *' at 0x7f0423e9c840> >\n",
      "<ifcopenshell.ifcopenshell_wrapper.triangulation_element_double_precision; proxy of <Swig Object of type 'IfcGeom::TriangulationElement< double,double > *' at 0x7f0423e9c660> >\n",
      "<ifcopenshell.ifcopenshell_wrapper.triangulation_element_double_precision; proxy of <Swig Object of type 'IfcGeom::TriangulationElement< double,double > *' at 0x7f0423e9c5a0> >\n",
      "<ifcopenshell.ifcopenshell_wrapper.triangulation_element_double_precision; proxy of <Swig Object of type 'IfcGeom::TriangulationElement< double,double > *' at 0x7f0423f66ba0> >\n",
      "<ifcopenshell.ifcopenshell_wrapper.triangulation_element_double_precision; proxy of <Swig Object of type 'IfcGeom::TriangulationElement< double,double > *' at 0x7f0423e9c8a0> >\n",
      "<ifcopenshell.ifcopenshell_wrapper.triangulation_element_double_precision; proxy of <Swig Object of type 'IfcGeom::TriangulationElement< double,double > *' at 0x7f0423e9c720> >\n",
      "<ifcopenshell.ifcopenshell_wrapper.triangulation_element_double_precision; proxy of <Swig Object of type 'IfcGeom::TriangulationElement< double,double > *' at 0x7f0423e955a0> >\n",
      "<ifcopenshell.ifcopenshell_wrapper.triangulation_element_double_precision; proxy of <Swig Object of type 'IfcGeom::TriangulationElement< double,double > *' at 0x7f0423e958a0> >\n",
      "<ifcopenshell.ifcopenshell_wrapper.triangulation_element_double_precision; proxy of <Swig Object of type 'IfcGeom::TriangulationElement< double,double > *' at 0x7f0423e95870> >\n",
      "<ifcopenshell.ifcopenshell_wrapper.triangulation_element_double_precision; proxy of <Swig Object of type 'IfcGeom::TriangulationElement< double,double > *' at 0x7f0423e95090> >\n",
      "<ifcopenshell.ifcopenshell_wrapper.triangulation_element_double_precision; proxy of <Swig Object of type 'IfcGeom::TriangulationElement< double,double > *' at 0x7f0423e95270> >\n",
      "<ifcopenshell.ifcopenshell_wrapper.triangulation_element_double_precision; proxy of <Swig Object of type 'IfcGeom::TriangulationElement< double,double > *' at 0x7f0423e953c0> >\n",
      "<ifcopenshell.ifcopenshell_wrapper.triangulation_element_double_precision; proxy of <Swig Object of type 'IfcGeom::TriangulationElement< double,double > *' at 0x7f0423e95360> >\n",
      "<ifcopenshell.ifcopenshell_wrapper.triangulation_element_double_precision; proxy of <Swig Object of type 'IfcGeom::TriangulationElement< double,double > *' at 0x7f0423e95060> >\n",
      "<ifcopenshell.ifcopenshell_wrapper.triangulation_element_double_precision; proxy of <Swig Object of type 'IfcGeom::TriangulationElement< double,double > *' at 0x7f0423e9c600> >\n",
      "<ifcopenshell.ifcopenshell_wrapper.triangulation_element_double_precision; proxy of <Swig Object of type 'IfcGeom::TriangulationElement< double,double > *' at 0x7f0423e9c090> >\n",
      "<ifcopenshell.ifcopenshell_wrapper.triangulation_element_double_precision; proxy of <Swig Object of type 'IfcGeom::TriangulationElement< double,double > *' at 0x7f0423e9c330> >\n",
      "<ifcopenshell.ifcopenshell_wrapper.triangulation_element_double_precision; proxy of <Swig Object of type 'IfcGeom::TriangulationElement< double,double > *' at 0x7f0423e9c840> >\n",
      "<ifcopenshell.ifcopenshell_wrapper.triangulation_element_double_precision; proxy of <Swig Object of type 'IfcGeom::TriangulationElement< double,double > *' at 0x7f0423e9c4e0> >\n",
      "went over 38 shapes\n"
     ]
    }
   ],
   "source": [
    "settings = ifcopenshell.geom.settings()\n",
    "# settings.set(settings.USE_PYTHON_OPENCASCADE, True)\n",
    "# settings.set(settings.USE_WORLD_COORDS, True)\n",
    "import OCC\n",
    "import OCCUtils\n",
    "\n",
    "\n",
    "import OCC.Core.TopExp\n",
    "\n",
    "\n",
    "model = ifcopenshell.open('../data/IfcOpenHouse_IFC4.ifc')\n",
    "walls = model.by_type('IfcWall')\n",
    "import multiprocessing\n",
    "\n",
    "for wall in walls:\n",
    "    shape = ifcopenshell.geom.create_shape(settings, wall).geometry\n",
    "#     exp = OCC.Core.TopExp.TopExp_Explorer(shape, OCC.Core.TopAbs.TopAbs_FACE)\n",
    "#     while exp.More():\n",
    "#         face = OCC.Core.TopoDS.topods.Face(exp.Current())\n",
    "#         prop = OCC.Core.BRepGProp.BRepGProp_Face(face)\n",
    "\n",
    "count = 0\n",
    "iterator = ifcopenshell.geom.iterator(settings, model, multiprocessing.cpu_count())\n",
    "if iterator.initialize():\n",
    "     while iterator.next():\n",
    "            count = count +1\n",
    "            shape = iterator.get()\n",
    "            print(shape)\n",
    "            element = model.by_guid(shape.guid)\n",
    "            faces = shape.geometry.faces # Indices of vertices per triangle face e.g. [f1v1, f1v2, f1v3, f2v1, f2v2, f2v3, ...]\n",
    "            verts = shape.geometry.verts # X Y Z of vertices in flattened list e.g. [v1x, v1y, v1z, v2x, v2y, v2z, ...]\n",
    "            materials = shape.geometry.materials # Material names and colour style information that are relevant to this shape\n",
    "            material_ids = shape.geometry.material_ids # Indices of material applied per triangle face e.g. [f1m, f2m, ...]\n",
    "print('went over {} shapes'.format(count))"
   ]
  },
  {
   "cell_type": "code",
   "execution_count": 7,
   "metadata": {},
   "outputs": [
    {
     "ename": "NameError",
     "evalue": "name 'ellips' is not defined",
     "output_type": "error",
     "traceback": [
      "\u001b[0;31m---------------------------------------------------------------------------\u001b[0m",
      "\u001b[0;31mNameError\u001b[0m                                 Traceback (most recent call last)",
      "\u001b[0;32m/tmp/ipykernel_4585/1762170154.py\u001b[0m in \u001b[0;36m<module>\u001b[0;34m\u001b[0m\n\u001b[1;32m      1\u001b[0m \u001b[0;32mfrom\u001b[0m \u001b[0mOCC\u001b[0m\u001b[0;34m.\u001b[0m\u001b[0mCore\u001b[0m\u001b[0;34m.\u001b[0m\u001b[0mIntAna\u001b[0m \u001b[0;32mimport\u001b[0m \u001b[0mIntAna_IntConicQuad\u001b[0m\u001b[0;34m\u001b[0m\u001b[0;34m\u001b[0m\u001b[0m\n\u001b[1;32m      2\u001b[0m \u001b[0;32mfrom\u001b[0m \u001b[0mOCC\u001b[0m\u001b[0;34m.\u001b[0m\u001b[0mCore\u001b[0m\u001b[0;34m.\u001b[0m\u001b[0mPrecision\u001b[0m \u001b[0;32mimport\u001b[0m \u001b[0mprecision_Angular\u001b[0m\u001b[0;34m,\u001b[0m \u001b[0mprecision_Confusion\u001b[0m \u001b[0;31m#these are numbers...\u001b[0m\u001b[0;34m\u001b[0m\u001b[0;34m\u001b[0m\u001b[0m\n\u001b[0;32m----> 3\u001b[0;31m intersection = IntAna_IntConicQuad(ellips,\n\u001b[0m\u001b[1;32m      4\u001b[0m                                     \u001b[0mplane\u001b[0m\u001b[0;34m,\u001b[0m\u001b[0;34m\u001b[0m\u001b[0;34m\u001b[0m\u001b[0m\n\u001b[1;32m      5\u001b[0m                                     \u001b[0mprecision_Angular\u001b[0m\u001b[0;34m(\u001b[0m\u001b[0;34m)\u001b[0m\u001b[0;34m,\u001b[0m\u001b[0;34m\u001b[0m\u001b[0;34m\u001b[0m\u001b[0m\n",
      "\u001b[0;31mNameError\u001b[0m: name 'ellips' is not defined"
     ]
    }
   ],
   "source": [
    "from OCC.Core.IntAna import IntAna_IntConicQuad\n",
    "from OCC.Core.Precision import precision_Angular, precision_Confusion #these are numbers...\n",
    "intersection = IntAna_IntConicQuad(ellips,\n",
    "                                    plane,\n",
    "                                    precision_Angular(),\n",
    "                                    precision_Confusion())\n",
    "# if nb_results > 0:\n",
    "\n",
    "pnt = gp_Pnt()\n",
    "ray = Geom_Line (gp_Lin (pnt, gp_Dir(0, -0.1, 1)))"
   ]
  },
  {
   "cell_type": "code",
   "execution_count": null,
   "metadata": {},
   "outputs": [],
   "source": [
    "import OCC.Core.IntAna\n",
    "OCC.Core.IntAna.IntAna_Line"
   ]
  },
  {
   "cell_type": "code",
   "execution_count": 34,
   "metadata": {},
   "outputs": [
    {
     "data": {
      "text/plain": [
       "{}"
      ]
     },
     "execution_count": 34,
     "metadata": {},
     "output_type": "execute_result"
    }
   ],
   "source": [
    "import ifcopenshell.util.element\n",
    "psets = ifcopenshell.util.element.get_psets(walls[0])\n",
    "psets"
   ]
  },
  {
   "cell_type": "code",
   "execution_count": null,
   "metadata": {},
   "outputs": [],
   "source": [
    "R = occGeomtrey.eul2R_zyx(0,0,np.pi/4) \n",
    "t = np.array([1,2,3])"
   ]
  },
  {
   "cell_type": "markdown",
   "metadata": {},
   "source": [
    "# Depth Camera"
   ]
  },
  {
   "cell_type": "code",
   "execution_count": null,
   "metadata": {},
   "outputs": [
    {
     "name": "stdout",
     "output_type": "stream",
     "text": [
      " ###### 3D rendering pipe initialisation #####\n",
      "Display3d class initialization starting ...\n",
      "Aspect_DisplayConnection created.\n",
      "Graphic_Driver created.\n",
      "V3d_Viewer created.\n",
      "AIS_InteractiveContext created.\n",
      "V3d_View created\n",
      "Display3d class successfully initialized.\n",
      " ########################################\n",
      "Display3d class successfully initialized.\n",
      " ########################################\n",
      "None\n"
     ]
    }
   ],
   "source": [
    "sz = (1024,768)\n",
    "offscreen_renderer = occRobotics.offlineRenderIFC()\n",
    "offscreen_renderer.Create()\n",
    "offscreen_renderer.SetSize(sz[0], sz[1])\n",
    "offscreen_renderer.SetModeShaded()\n",
    "data = offscreen_renderer.GetImageData(sz[0],sz[1],Graphic3d_BufferType.Graphic3d_BT_Depth)\n",
    "print(data)\n",
    "\n",
    "#img = Image.frombytes('RGB',sz, data)\n",
    "#display(img)\n",
    "\n",
    "#picture is all black!\n",
    "# can be resolved? https://github.com/tpaviot/pythonocc-core/issues/854"
   ]
  }
 ],
 "metadata": {
  "interpreter": {
   "hash": "67b8fd06e538271f940de2b9ef404983808bf52e6a7ddb8e9fa7aab854cbd777"
  },
  "kernelspec": {
   "display_name": "Python 3.8.12 64-bit ('pyoccenv741': conda)",
   "language": "python",
   "name": "python3"
  },
  "language_info": {
   "codemirror_mode": {
    "name": "ipython",
    "version": 3
   },
   "file_extension": ".py",
   "mimetype": "text/x-python",
   "name": "python",
   "nbconvert_exporter": "python",
   "pygments_lexer": "ipython3",
   "version": "3.8.12"
  },
  "orig_nbformat": 4
 },
 "nbformat": 4,
 "nbformat_minor": 2
}
