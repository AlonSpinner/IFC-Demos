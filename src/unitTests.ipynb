{
 "cells": [
  {
   "cell_type": "code",
   "execution_count": 1,
   "metadata": {},
   "outputs": [],
   "source": [
    "import occRobotics\n",
    "import numpy as np\n",
    "from OCC.Core import gp"
   ]
  },
  {
   "cell_type": "markdown",
   "metadata": {},
   "source": [
    "# Test makeTrsf"
   ]
  },
  {
   "cell_type": "code",
   "execution_count": 5,
   "metadata": {},
   "outputs": [
    {
     "name": "stdout",
     "output_type": "stream",
     "text": [
      "(0.9999999999999999, 2.0, 3.0)\n",
      "[[ 0.70710678 -0.70710678  0.        ]\n",
      " [ 0.70710678  0.70710678  0.        ]\n",
      " [ 0.          0.          1.        ]]\n"
     ]
    }
   ],
   "source": [
    "R = occRobotics.eul2R_zyx(0,0,np.pi/4) \n",
    "t = np.array([1,2,3])\n",
    "gpT = occRobotics.makeTrsf(R,t)\n",
    "gpT.Invert()\n",
    "\n",
    "print(gpT.TranslationPart().Coord())\n",
    "print(occRobotics.gpMat3toNumpy(gpT.GetRotation().GetMatrix()))"
   ]
  },
  {
   "cell_type": "markdown",
   "metadata": {},
   "source": []
  }
 ],
 "metadata": {
  "interpreter": {
   "hash": "67b8fd06e538271f940de2b9ef404983808bf52e6a7ddb8e9fa7aab854cbd777"
  },
  "kernelspec": {
   "display_name": "Python 3.8.12 64-bit ('pyoccenv741': conda)",
   "language": "python",
   "name": "python3"
  },
  "language_info": {
   "codemirror_mode": {
    "name": "ipython",
    "version": 3
   },
   "file_extension": ".py",
   "mimetype": "text/x-python",
   "name": "python",
   "nbconvert_exporter": "python",
   "pygments_lexer": "ipython3",
   "version": "3.8.12"
  },
  "orig_nbformat": 4
 },
 "nbformat": 4,
 "nbformat_minor": 2
}
