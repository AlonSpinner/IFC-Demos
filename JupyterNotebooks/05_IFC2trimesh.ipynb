{
 "cells": [
  {
   "cell_type": "code",
   "execution_count": 157,
   "metadata": {},
   "outputs": [],
   "source": [
    "#!/home/alon/LocalInstalls/miniconda3/envs/pyoccenv741/bin/python\n",
    "import ifcopenshell, ifcopenshell.geom\n",
    "\n",
    "import sys\n",
    "import os\n",
    "sys.path.append(os.path.abspath('..'))\n",
    "from src import ifcControl\n",
    "\n",
    "import numpy as np\n",
    "import matplotlib.pyplot as plt\n",
    "from mpl_toolkits.mplot3d import art3d\n",
    "\n",
    "import trimesh # https://github.com/mikedh/trimesh\n",
    "import PIL\n",
    "import io"
   ]
  },
  {
   "cell_type": "code",
   "execution_count": 13,
   "metadata": {},
   "outputs": [
    {
     "name": "stdout",
     "output_type": "stream",
     "text": [
      "INFO:OCC.Display.backend:The qt-pyqt5 backend is already loaded...``load_backend`` can only be called once per session\n",
      "INFO:OCC.Display.SimpleGui:GUI backend set to: qt-pyqt5\n",
      " ###### 3D rendering pipe initialisation #####\n",
      "Display3d class initialization starting ...\n",
      "Aspect_DisplayConnection created.\n",
      "Graphic_Driver created.\n",
      "V3d_Viewer created.\n",
      "AIS_InteractiveContext created.\n",
      "V3d_View created\n",
      "Xw_Window created.\n",
      "Display3d class successfully initialized.\n",
      " ########################################\n"
     ]
    }
   ],
   "source": [
    "# Open the IFC file using IfcOpenShell\n",
    "ifc = ifcopenshell.open(\"../data/IfcOpenHouse_IFC4.ifc\")\n",
    "ifcControl.ifcshow(ifc)"
   ]
  },
  {
   "cell_type": "code",
   "execution_count": 14,
   "metadata": {},
   "outputs": [],
   "source": [
    "#https://sourceforge.net/p/ifcopenshell/discussion/1782716/thread/6e9f0aee79/\n",
    "# https://framagit.org/pythonhvac/pythoncvc-net/blob/master/IfcOpenShellSamples/ifc_placement.py\n",
    "# https://pythoncvc.net/?cat=183\n",
    "# https://sourceforge.net/p/ifcopenshell/discussion/1782717/thread/409ef11620/\n",
    "\n",
    "# Get a list of all walls in the file\n",
    "products = ifc.by_type(\"IfcProduct\")\n",
    "settingsGeom = ifcopenshell.geom.settings()\n",
    "settingsGeom.set(settingsGeom.USE_PYTHON_OPENCASCADE, False) #ifcopenshell.geom.create_shape behaives diffrently\n",
    "settingsGeom.set(settingsGeom.USE_WORLD_COORDS,True)\n",
    "settingsStyles = ifcopenshell.geom.settings()\n",
    "settingsStyles.set(settingsStyles.USE_PYTHON_OPENCASCADE, True)\n",
    "settingsStyles.set(settingsStyles.USE_WORLD_COORDS,True)\n",
    "\n",
    "trigs = []\n",
    "for product in products:\n",
    "    if product.is_a(\"IfcOpeningElement\"): continue\n",
    "    if product.Representation:\n",
    "        #collect color\n",
    "        shapeStyle = ifcopenshell.geom.create_shape(settingsStyles, inst=product)\n",
    "        color = np.array(shapeStyle.styles[0]) # the shape color\n",
    "\n",
    "        #collect geometry\n",
    "        shape = ifcopenshell.geom.create_shape(settingsGeom, inst=product)\n",
    "        element = ifc.by_guid(shape.guid)\n",
    "        verts = shape.geometry.verts # X Y Z of vertices in flattened list e.g. [v1x, v1y, v1z, v2x, v2y, v2z, ...]\n",
    "        verts = np.array(verts).reshape((-1,3))\n",
    "        faces = shape.geometry.faces  #Indices of vertices per triangle face e.g. [f1v1, f1v2, f1v3, f2v1, f2v2, f2v3, ...]\n",
    "        faces = np.array(faces).reshape((-1,3))\n",
    "        dict = {\n",
    "            \"element\": element,\n",
    "            \"vertices\": verts,\n",
    "            \"faces\": faces,\n",
    "            \"color\": color,\n",
    "            }\n",
    "        trigs.append(dict)"
   ]
  },
  {
   "cell_type": "code",
   "execution_count": 114,
   "metadata": {},
   "outputs": [
    {
     "name": "stdout",
     "output_type": "stream",
     "text": [
      "DEBUG:matplotlib.pyplot:Loaded backend Qt5Agg version unknown.\n",
      "Using matplotlib backend: Qt5Agg\n"
     ]
    }
   ],
   "source": [
    "#https://stackoverflow.com/questions/56559379/plot-mesh-stored-as-vertices-and-faces\n",
    "\n",
    "#-----dont want inline\n",
    "%matplotlib auto \n",
    "#-----\n",
    "fig = plt.figure()\n",
    "ax = fig.add_subplot(projection=\"3d\")\n",
    "\n",
    "for trig in trigs:\n",
    "    v = trig[\"vertices\"]\n",
    "    f = trig[\"faces\"]\n",
    "    pc = art3d.Poly3DCollection(v[f], facecolors=trig[\"color\"][:3], edgecolor=\"none\")\n",
    "    ax.add_collection(pc)\n",
    "\n",
    "#auto scaling doesnt work\n",
    "allV = np.concatenate([trigs[_][\"vertices\"] for _ in range(len(trigs))])\n",
    "maxV = allV.max(axis=0)\n",
    "minV = allV.min(axis=0)\n",
    "ax.set(xlim=(minV[0], maxV[0]), ylim=(minV[1], maxV[1]), zlim=(minV[2], maxV[2]))\n",
    "ax.set_xlabel('x'); ax.set_ylabel('y'); ax.set_zlabel('z')\n",
    "plt.show()"
   ]
  },
  {
   "cell_type": "code",
   "execution_count": 16,
   "metadata": {},
   "outputs": [
    {
     "name": "stdout",
     "output_type": "stream",
     "text": [
      "DEBUG:trimesh:voxelize_subdivide executed in 0.0147 seconds.\n",
      "DEBUG:trimesh:voxelize_subdivide executed in 0.0078 seconds.\n",
      "DEBUG:trimesh:voxelize_subdivide executed in 0.0068 seconds.\n",
      "DEBUG:trimesh:voxelize_subdivide executed in 0.0056 seconds.\n",
      "DEBUG:trimesh:voxelize_subdivide executed in 0.0062 seconds.\n",
      "DEBUG:trimesh:voxelize_subdivide executed in 0.0050 seconds.\n",
      "DEBUG:trimesh:voxelize_subdivide executed in 0.0019 seconds.\n",
      "DEBUG:trimesh:voxelize_subdivide executed in 0.0024 seconds.\n",
      "DEBUG:trimesh:voxelize_subdivide executed in 0.0015 seconds.\n",
      "DEBUG:trimesh:voxelize_subdivide executed in 0.0027 seconds.\n",
      "DEBUG:trimesh:voxelize_subdivide executed in 0.0014 seconds.\n",
      "DEBUG:trimesh:voxelize_subdivide executed in 0.0015 seconds.\n",
      "DEBUG:trimesh:voxelize_subdivide executed in 0.0014 seconds.\n",
      "DEBUG:trimesh:voxelize_subdivide executed in 0.0013 seconds.\n",
      "DEBUG:trimesh:voxelize_subdivide executed in 0.0020 seconds.\n",
      "DEBUG:trimesh:voxelize_subdivide executed in 0.0010 seconds.\n",
      "DEBUG:trimesh:voxelize_subdivide executed in 0.0010 seconds.\n",
      "DEBUG:trimesh:voxelize_subdivide executed in 0.0009 seconds.\n",
      "DEBUG:trimesh:voxelize_subdivide executed in 0.0012 seconds.\n",
      "DEBUG:trimesh:voxelize_subdivide executed in 0.0020 seconds.\n",
      "DEBUG:trimesh:voxelize_subdivide executed in 0.0012 seconds.\n",
      "DEBUG:trimesh:voxelize_subdivide executed in 0.0011 seconds.\n",
      "DEBUG:trimesh:voxelize_subdivide executed in 0.0010 seconds.\n",
      "DEBUG:trimesh:voxelize_subdivide executed in 0.0010 seconds.\n",
      "DEBUG:trimesh:voxelize_subdivide executed in 0.0014 seconds.\n",
      "DEBUG:trimesh:voxelize_subdivide executed in 0.0011 seconds.\n",
      "DEBUG:trimesh:voxelize_subdivide executed in 0.0010 seconds.\n",
      "DEBUG:trimesh:voxelize_subdivide executed in 0.0010 seconds.\n",
      "DEBUG:trimesh:voxelize_subdivide executed in 0.0009 seconds.\n",
      "DEBUG:trimesh:voxelize_subdivide executed in 0.0012 seconds.\n",
      "DEBUG:trimesh:voxelize_subdivide executed in 0.0012 seconds.\n",
      "DEBUG:trimesh:voxelize_subdivide executed in 0.0010 seconds.\n",
      "DEBUG:trimesh:voxelize_subdivide executed in 0.0010 seconds.\n",
      "DEBUG:trimesh:voxelize_subdivide executed in 0.0009 seconds.\n",
      "DEBUG:trimesh:voxelize_subdivide executed in 0.0013 seconds.\n"
     ]
    }
   ],
   "source": [
    "pitch = 1\n",
    "for trig in trigs:\n",
    "    mesh = trimesh.Trimesh(vertices = trig[\"vertices\"],faces = trig[\"faces\"]) #type = trimesh.base.Trimesh\n",
    "    voxels = mesh.voxelized(pitch)\n",
    "    trig[\"mesh\"] = mesh\n",
    "    mesh.visual = trimesh.visual.ColorVisuals(mesh,face_colors=trig[\"color\"])\n",
    "    trig[\"voxel\"] = voxels"
   ]
  },
  {
   "cell_type": "code",
   "execution_count": 17,
   "metadata": {},
   "outputs": [],
   "source": [
    "fig = plt.figure()\n",
    "ax = fig.add_subplot(projection='3d')\n",
    "ax.set_xlabel('x'); ax.set_ylabel('y'); ax.set_zlabel('z')\n",
    "\n",
    "for tri in trigs:\n",
    "    p = tri[\"voxel\"].points\n",
    "    ax.scatter(p[:,0],p[:,1],p[:,2],c=tri[\"color\"][:3].reshape(1,-1))"
   ]
  },
  {
   "cell_type": "code",
   "execution_count": 122,
   "metadata": {},
   "outputs": [
    {
     "name": "stdout",
     "output_type": "stream",
     "text": [
      "2.32\n",
      "[[ 0.   -0.18  2.  ]]\n"
     ]
    }
   ],
   "source": [
    "#https://trimsh.org/examples/ray.html\n",
    "ray_origins = np.array([0, -2.5, 2]) \n",
    "ray_directions = np.array([np.sin(0), np.cos(0), 0])\n",
    "\n",
    "dDist = np.inf\n",
    "loc = []\n",
    "for trig in trigs:\n",
    "    mesh = trig[\"mesh\"]\n",
    "    locations, index_ray, index_tri = mesh.ray.intersects_location([ray_origins],[ray_directions],multiple_hits = False)\n",
    "    if len(locations>0):\n",
    "        dVec = locations - ray_origins\n",
    "        dDist_challanger = np.linalg.norm(dVec)\n",
    "        if dDist > dDist_challanger:\n",
    "            dDist = dDist_challanger\n",
    "            loc = locations\n",
    "print(dDist)\n",
    "print(loc)"
   ]
  },
  {
   "cell_type": "code",
   "execution_count": 162,
   "metadata": {},
   "outputs": [
    {
     "name": "stdout",
     "output_type": "stream",
     "text": [
      "DEBUG:trimesh:1 items cleared from cache: ['nodes']\n",
      "DEBUG:trimesh:1 items cleared from cache: ['nodes']\n",
      "DEBUG:trimesh:1 items cleared from cache: ['nodes']\n",
      "DEBUG:trimesh:1 items cleared from cache: ['nodes']\n",
      "DEBUG:trimesh:1 items cleared from cache: ['nodes']\n",
      "DEBUG:trimesh:1 items cleared from cache: ['nodes']\n",
      "DEBUG:trimesh:1 items cleared from cache: ['nodes']\n",
      "DEBUG:trimesh:1 items cleared from cache: ['nodes']\n",
      "DEBUG:trimesh:1 items cleared from cache: ['nodes']\n",
      "DEBUG:trimesh:1 items cleared from cache: ['nodes']\n",
      "DEBUG:trimesh:1 items cleared from cache: ['nodes']\n",
      "DEBUG:trimesh:1 items cleared from cache: ['nodes']\n",
      "DEBUG:trimesh:1 items cleared from cache: ['nodes']\n",
      "DEBUG:trimesh:1 items cleared from cache: ['nodes']\n",
      "DEBUG:trimesh:1 items cleared from cache: ['nodes']\n",
      "DEBUG:trimesh:1 items cleared from cache: ['nodes']\n",
      "DEBUG:trimesh:1 items cleared from cache: ['nodes']\n",
      "DEBUG:trimesh:1 items cleared from cache: ['nodes']\n",
      "DEBUG:trimesh:1 items cleared from cache: ['nodes']\n",
      "DEBUG:trimesh:1 items cleared from cache: ['nodes']\n",
      "DEBUG:trimesh:1 items cleared from cache: ['nodes']\n",
      "DEBUG:trimesh:1 items cleared from cache: ['nodes']\n",
      "DEBUG:trimesh:1 items cleared from cache: ['nodes']\n",
      "DEBUG:trimesh:1 items cleared from cache: ['nodes']\n",
      "DEBUG:trimesh:1 items cleared from cache: ['nodes']\n",
      "DEBUG:trimesh:1 items cleared from cache: ['nodes']\n",
      "DEBUG:trimesh:1 items cleared from cache: ['nodes']\n",
      "DEBUG:trimesh:1 items cleared from cache: ['nodes']\n",
      "DEBUG:trimesh:1 items cleared from cache: ['nodes']\n",
      "DEBUG:trimesh:1 items cleared from cache: ['nodes']\n",
      "DEBUG:trimesh:1 items cleared from cache: ['nodes']\n",
      "DEBUG:trimesh:1 items cleared from cache: ['nodes']\n",
      "DEBUG:trimesh:1 items cleared from cache: ['nodes']\n",
      "DEBUG:trimesh:1 items cleared from cache: ['nodes']\n",
      "DEBUG:trimesh:1 items cleared from cache: ['nodes']\n"
     ]
    },
    {
     "data": {
      "text/plain": [
       "<trimesh.scene.Camera> FOV: [45. 45.] Resolution: [10 10]"
      ]
     },
     "execution_count": 162,
     "metadata": {},
     "output_type": "execute_result"
    }
   ],
   "source": [
    "#they have camera to rays module! nice :)\n",
    "# https://github.com/mikedh/trimesh/issues/486\n",
    "# https://github.com/mikedh/trimesh/issues/620\n",
    "scene = trimesh.Scene()\n",
    "for tri in trigs:\n",
    "    scene.add_geometry(tri[\"mesh\"])\n",
    "scene.set_camera(resolution = (10,10),fov = (45,45))"
   ]
  },
  {
   "cell_type": "code",
   "execution_count": 163,
   "metadata": {},
   "outputs": [
    {
     "name": "stdout",
     "output_type": "stream",
     "text": [
      "DEBUG:trimesh:36 items cleared from cache: ['nodes_geometry', ('world', 'geometry_0'), ('world', 'geometry_1'), ('world', 'geometry_2'), ('world', 'geometry_3'), ('world', 'geometry_4'), ('world', 'geometry_5'), ('world', 'geometry_6'), ('world', 'geometry_7'), ('world', 'geometry_8'), ('world', 'geometry_9'), ('world', 'geometry_10'), ('world', 'geometry_11'), ('world', 'geometry_12'), ('world', 'geometry_13'), ('world', 'geometry_14'), ('world', 'geometry_15'), ('world', 'geometry_16'), ('world', 'geometry_17'), ('world', 'geometry_18'), ('world', 'geometry_19'), ('world', 'geometry_20'), ('world', 'geometry_21'), ('world', 'geometry_22'), ('world', 'geometry_23'), ('world', 'geometry_24'), ('world', 'geometry_25'), ('world', 'geometry_26'), ('world', 'geometry_27'), ('world', 'geometry_28'), ('world', 'geometry_29'), ('world', 'geometry_30'), ('world', 'geometry_31'), ('world', 'geometry_32'), ('world', 'geometry_33'), ('world', 'geometry_34')]\n"
     ]
    },
    {
     "name": "stderr",
     "output_type": "stream",
     "text": [
      "/tmp/ipykernel_1167/1978638841.py:20: RuntimeWarning: invalid value encountered in true_divide\n",
      "  depth_float = ((depth - depth.min()) / depth.ptp())\n"
     ]
    },
    {
     "data": {
      "image/png": "[encoded data removed]",
      "text/plain": [
       "<PIL.Image.Image image mode=L size=10x10 at 0x7FD36C04AE80>"
      ]
     },
     "metadata": {},
     "output_type": "display_data"
    }
   ],
   "source": [
    "# https://github.com/mikedh/trimesh/issues/1000\n",
    "def ray_trace():\n",
    "    # convert the camera to rays with one ray per pixel\n",
    "    origins, vectors, pixels = scene.camera_rays()\n",
    "    # do the actual ray- mesh queries\n",
    "    points, index_ray, index_tri = mesh.ray.intersects_location(\n",
    "        origins, vectors, multiple_hits=False)\n",
    "\n",
    "    # for each hit, find the distance along its vector\n",
    "    depth = trimesh.util.diagonal_dot(points - origins[0],\n",
    "                                      vectors[index_ray])\n",
    "    # find pixel locations of actual hits\n",
    "    pixel_ray = pixels[index_ray]\n",
    "\n",
    "    # create a numpy array we can turn into an image\n",
    "    # doing it with uint8 creates an `L` mode greyscale image\n",
    "    a = np.zeros(scene.camera.resolution, dtype=np.uint8)\n",
    "\n",
    "    # scale depth against range (0.0 - 1.0)\n",
    "    depth_float = ((depth - depth.min()) / depth.ptp())\n",
    "\n",
    "    # convert depth into 0 - 255 uint8\n",
    "    depth_int = (depth_float * 255).round().astype(np.uint8)\n",
    "    # assign depth to correct pixel locations\n",
    "    a += 255 \n",
    "    a[pixel_ray[:, 0], pixel_ray[:, 1]] = depth_int\n",
    "    # create a PIL image from the depth queries\n",
    "    img = PIL.Image.fromarray(a)\n",
    "    # show the resulting image\n",
    "    display(img)\n",
    "\n",
    "ray_trace()"
   ]
  },
  {
   "cell_type": "code",
   "execution_count": null,
   "metadata": {},
   "outputs": [],
   "source": [
    "# https://colab.research.google.com/drive/1pcndwqeY8vker3bLKQNJKr3B-7-SYenE?usp=sharing#scrollTo=7uEYsxXjw9v0 \n",
    "#more stuff"
   ]
  }
 ],
 "metadata": {
  "interpreter": {
   "hash": "67b8fd06e538271f940de2b9ef404983808bf52e6a7ddb8e9fa7aab854cbd777"
  },
  "kernelspec": {
   "display_name": "Python 3.8.12 64-bit ('pyoccenv741': conda)",
   "language": "python",
   "name": "python3"
  },
  "language_info": {
   "codemirror_mode": {
    "name": "ipython",
    "version": 3
   },
   "file_extension": ".py",
   "mimetype": "text/x-python",
   "name": "python",
   "nbconvert_exporter": "python",
   "pygments_lexer": "ipython3",
   "version": "3.8.12"
  },
  "orig_nbformat": 4
 },
 "nbformat": 4,
 "nbformat_minor": 2
}
