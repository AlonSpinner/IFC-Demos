{
 "cells": [
  {
   "cell_type": "code",
   "execution_count": 1,
   "metadata": {},
   "outputs": [],
   "source": [
    "import ifcopenshell, ifcopenshell.geom\n",
    "import multiprocessing\n",
    "from ifcopenshell.util.selector import Selector\n",
    "\n",
    "#https://askubuntu.com/questions/470982/how-to-add-a-python-module-to-syspath\n",
    "import sys\n",
    "import os\n",
    "sys.path.append(os.path.abspath('..'))\n",
    "from src import ifcControl\n"
   ]
  },
  {
   "cell_type": "code",
   "execution_count": 2,
   "metadata": {},
   "outputs": [],
   "source": [
    "ifcPath = \"../data/Duplex_A.ifc\"\n",
    "ifc = ifcopenshell.open(ifcPath)"
   ]
  },
  {
   "cell_type": "code",
   "execution_count": 22,
   "metadata": {},
   "outputs": [
    {
     "name": "stdout",
     "output_type": "stream",
     "text": [
      "INFO:OCC.Display.backend:The qt-pyqt5 backend is already loaded...``load_backend`` can only be called once per session\n",
      "INFO:OCC.Display.SimpleGui:GUI backend set to: qt-pyqt5\n",
      " ###### 3D rendering pipe initialisation #####\n",
      "Display3d class initialization starting ...\n",
      "Aspect_DisplayConnection created.\n",
      "Graphic_Driver created.\n",
      "V3d_Viewer created.\n",
      "AIS_InteractiveContext created.\n",
      "V3d_View created\n",
      "Xw_Window created.\n",
      "Display3d class successfully initialized.\n",
      " ########################################\n"
     ]
    }
   ],
   "source": [
    "ifcControl.ifcshow(ifc)"
   ]
  },
  {
   "cell_type": "code",
   "execution_count": 3,
   "metadata": {},
   "outputs": [
    {
     "name": "stdout",
     "output_type": "stream",
     "text": [
      "IFC2X3\n",
      "[#120=IfcBuildingStorey('2hExBg8jj4NRG6zzD0RZML',#41,'Level 1',$,$,#118,$,'Level 1',.ELEMENT.,0.), #126=IfcBuildingStorey('2hExBg8jj4NRG6zzD0RZxP',#41,'Level 2',$,$,#125,$,'Level 2',.ELEMENT.,6000.), #132=IfcBuildingStorey('2hExBg8jj4NRG6zzD0Rw2Q',#41,'Level 3',$,$,#131,$,'Level 3',.ELEMENT.,11000.), #138=IfcBuildingStorey('2hExBg8jj4NRG6zzD0RwAf',#41,'Level 4',$,$,#137,$,'Level 4',.ELEMENT.,16000.), #144=IfcBuildingStorey('2hExBg8jj4NRG6zzD0RwC1',#41,'Level 5',$,$,#143,$,'Level 5',.ELEMENT.,21000.), #150=IfcBuildingStorey('2hExBg8jj4NRG6zzD0Rwx$',#41,'Level 6',$,$,#149,$,'Level 6',.ELEMENT.,26000.), #156=IfcBuildingStorey('2hExBg8jj4NRG6zzD0PTA_',#41,'Level 7A',$,$,#155,$,'Level 7A',.ELEMENT.,31000.), #162=IfcBuildingStorey('2hExBg8jj4NRG6zzD0REmB',#41,'Level 7',$,$,#161,$,'Level 7',.ELEMENT.,34000.)]\n"
     ]
    }
   ],
   "source": [
    "selector = Selector()\n",
    "\n",
    "print(ifc.schema)\n",
    "stories = ifc.by_type('IFCBUILDINGSTOREY')\n",
    "print(stories)\n",
    "stories[0]\n",
    "\n",
    "query = f'@ #{stories[0].GlobalId} | .IfcColourRgb | .IfcSurfaceStyleRendering'\n",
    "elements = selector.parse(ifc,query)\n",
    "\n",
    "ifcNew = ifcopenshell.file(schema=ifc.schema)\n",
    "ifcNew.add(ifc.by_type(\"IfcProject\")[0]) #https://github.com/IfcOpenShell/IfcOpenShell/issues/564#issuecomment-477049228\n",
    "for element in elements:\n",
    "    ifcNew.add(element)\n",
    "ifcNew.write('ifcNew_Duplex_A.ifc')"
   ]
  },
  {
   "cell_type": "code",
   "execution_count": 12,
   "metadata": {},
   "outputs": [
    {
     "name": "stdout",
     "output_type": "stream",
     "text": [
      " ###### 3D rendering pipe initialisation #####\n",
      "Display3d class initialization starting ...\n",
      "Aspect_DisplayConnection created.\n",
      "Graphic_Driver created.\n",
      "V3d_Viewer created.\n",
      "AIS_InteractiveContext created.\n",
      "V3d_View created\n",
      "Xw_Window created.\n",
      "Display3d class successfully initialized.\n",
      " ########################################\n"
     ]
    }
   ],
   "source": [
    "ifcNewPath=\"ifcNew_Duplex_A.ifc\"\n",
    "ifcNewPath = ifcopenshell.open(ifcNewPath)\n",
    "ifcControl.ifcshow(ifcNewPath)\n",
    "\n",
    "# https://github.com/IfcOpenShell/IfcOpenShell/issues/1843\n",
    "# https://github.com/IfcOpenShell/IfcOpenShell/issues/1962 <--- my issue\n",
    "# https://sourceforge.net/p/ifcopenshell/discussion/1782717/thread/aeb05661/"
   ]
  }
 ],
 "metadata": {
  "interpreter": {
   "hash": "67b8fd06e538271f940de2b9ef404983808bf52e6a7ddb8e9fa7aab854cbd777"
  },
  "kernelspec": {
   "display_name": "Python 3.8.12 64-bit ('pyoccenv741': conda)",
   "language": "python",
   "name": "python3"
  },
  "language_info": {
   "codemirror_mode": {
    "name": "ipython",
    "version": 3
   },
   "file_extension": ".py",
   "mimetype": "text/x-python",
   "name": "python",
   "nbconvert_exporter": "python",
   "pygments_lexer": "ipython3",
   "version": "3.8.12"
  },
  "orig_nbformat": 4
 },
 "nbformat": 4,
 "nbformat_minor": 2
}
