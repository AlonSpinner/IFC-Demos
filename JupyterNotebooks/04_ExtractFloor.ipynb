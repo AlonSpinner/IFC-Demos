{
 "cells": [
  {
   "cell_type": "code",
   "execution_count": 16,
   "metadata": {},
   "outputs": [],
   "source": [
    "import ifcopenshell, ifcopenshell.geom\n",
    "from OCC.Core.Quantity import Quantity_Color, Quantity_TOC_RGB\n",
    "from OCC.Display.SimpleGui import init_display\n",
    "import numpy as np\n",
    "import toposort\n",
    "\n",
    "#https://askubuntu.com/questions/470982/how-to-add-a-python-module-to-syspath\n",
    "import sys\n",
    "import os\n",
    "sys.path.append(os.path.abspath('..'))\n",
    "from src import ifcControl\n"
   ]
  },
  {
   "cell_type": "code",
   "execution_count": 17,
   "metadata": {},
   "outputs": [],
   "source": [
    "ifcPath=\"../data/Duplex_A.ifc\"\n",
    "ifc = ifcopenshell.open(ifcPath)"
   ]
  },
  {
   "cell_type": "code",
   "execution_count": 15,
   "metadata": {},
   "outputs": [
    {
     "name": "stdout",
     "output_type": "stream",
     "text": [
      "INFO:OCC.Display.backend:The qt-pyqt5 backend is already loaded...``load_backend`` can only be called once per session\n",
      "INFO:OCC.Display.SimpleGui:GUI backend set to: qt-pyqt5\n",
      " ###### 3D rendering pipe initialisation #####\n",
      "Display3d class initialization starting ...\n",
      "Aspect_DisplayConnection created.\n",
      "Graphic_Driver created.\n",
      "V3d_Viewer created.\n",
      "AIS_InteractiveContext created.\n",
      "V3d_View created\n",
      "Xw_Window created.\n",
      "Display3d class successfully initialized.\n",
      " ########################################\n"
     ]
    }
   ],
   "source": [
    "ifcControl.ifcshow(ifc)"
   ]
  },
  {
   "cell_type": "code",
   "execution_count": 18,
   "metadata": {},
   "outputs": [
    {
     "name": "stdout",
     "output_type": "stream",
     "text": [
      "IFC2X3\n",
      "#39=IfcBuildingStorey('1xS3BCk291UvhgP2dvNMKI',#33,'Level 1',$,$,#38,$,$,.ELEMENT.,0.)\n"
     ]
    }
   ],
   "source": [
    "from ifcopenshell.util.selector import Selector\n",
    "settings = ifcopenshell.geom.settings()\n",
    "settings.set(settings.USE_PYTHON_OPENCASCADE, True)\n",
    "settings.set(settings.APPLY_DEFAULT_MATERIALS, True)\n",
    "\n",
    "selector = Selector()\n",
    "\n",
    "print(ifc.schema)\n",
    "print(ifc.by_guid('1xS3BCk291UvhgP2dvNMKI')) #found Level 1 in .ifc \n",
    "\n",
    "\n",
    "elements = selector.parse(ifc, '@ #1xS3BCk291UvhgP2dvNMKI')\n",
    "\n",
    "ifcNew = ifcopenshell.file(schema=ifc.schema)\n",
    "ifcNew.add(ifc.by_type(\"IfcProject\")[0]) #https://github.com/IfcOpenShell/IfcOpenShell/issues/564#issuecomment-477049228\n",
    "for element in elements:\n",
    "    ifcNew.add(element)\n",
    "ifcNew.write('ifcNew_Duplex_A.ifc')"
   ]
  },
  {
   "cell_type": "code",
   "execution_count": 19,
   "metadata": {},
   "outputs": [
    {
     "name": "stdout",
     "output_type": "stream",
     "text": [
      "INFO:OCC.Display.backend:The qt-pyqt5 backend is already loaded...``load_backend`` can only be called once per session\n",
      "INFO:OCC.Display.SimpleGui:GUI backend set to: qt-pyqt5\n",
      " ###### 3D rendering pipe initialisation #####\n",
      "Display3d class initialization starting ...\n",
      "Aspect_DisplayConnection created.\n",
      "Graphic_Driver created.\n",
      "V3d_Viewer created.\n",
      "AIS_InteractiveContext created.\n",
      "V3d_View created\n",
      "Xw_Window created.\n",
      "Display3d class successfully initialized.\n",
      " ########################################\n"
     ]
    }
   ],
   "source": [
    "ifcPath=\"ifcNew_Duplex_A.ifc\"\n",
    "ifc = ifcopenshell.open(ifcPath)\n",
    "ifcControl.ifcshow(ifc)\n",
    "\n",
    "# https://github.com/IfcOpenShell/IfcOpenShell/issues/1843"
   ]
  }
 ],
 "metadata": {
  "interpreter": {
   "hash": "67b8fd06e538271f940de2b9ef404983808bf52e6a7ddb8e9fa7aab854cbd777"
  },
  "kernelspec": {
   "display_name": "Python 3.8.12 64-bit ('pyoccenv741': conda)",
   "language": "python",
   "name": "python3"
  },
  "language_info": {
   "codemirror_mode": {
    "name": "ipython",
    "version": 3
   },
   "file_extension": ".py",
   "mimetype": "text/x-python",
   "name": "python",
   "nbconvert_exporter": "python",
   "pygments_lexer": "ipython3",
   "version": "3.8.12"
  },
  "orig_nbformat": 4
 },
 "nbformat": 4,
 "nbformat_minor": 2
}
