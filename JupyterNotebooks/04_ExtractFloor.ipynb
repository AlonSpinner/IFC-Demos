{
 "cells": [
  {
   "cell_type": "code",
   "execution_count": 9,
   "metadata": {},
   "outputs": [],
   "source": [
    "import ifcopenshell, ifcopenshell.geom\n",
    "from OCC.Core.Quantity import Quantity_Color, Quantity_TOC_RGB\n",
    "from OCC.Display.SimpleGui import init_display\n",
    "import numpy as np\n",
    "import toposort\n",
    "settings = ifcopenshell.geom.settings()\n",
    "settings.set(settings.USE_PYTHON_OPENCASCADE, True)\n",
    "\n"
   ]
  },
  {
   "cell_type": "code",
   "execution_count": 10,
   "metadata": {},
   "outputs": [],
   "source": [
    "def gpTrsf2T(gpT):\n",
    "    T=np.zeros((4,4))\n",
    "    for ii in range(3): #gpTrsf defines are 3x4 matrix\n",
    "        for jj in range(4):\n",
    "            T[ii,jj] = gpT.Value(ii+1,jj+1)\n",
    "    T[3,3] = 1 #add the 1 for the [4th,4th place]\n",
    "    return T\n",
    "\n",
    "def ifcshow(ifc):\n",
    "    occ_display, start_display, add_menu, add_function_to_menu = init_display()\n",
    "    cam = occ_display.View.Camera()\n",
    "    products = ifc.by_type(\"IfcProduct\")\n",
    "    for product in products:\n",
    "        if product.is_a(\"IfcOpeningElement\"): continue\n",
    "        if product.Representation:\n",
    "            shape = ifcopenshell.geom.create_shape(settings, product)\n",
    "            r, g, b, a = shape.styles[0] # the shape color\n",
    "            color = Quantity_Color(abs(r), abs(g), abs(b), Quantity_TOC_RGB)\n",
    "            display_shape = occ_display.DisplayShape(shape.geometry,color=color, transparency=abs(1 -a),update=True)\n",
    "    start_display() #must be used or kernel crashes\n",
    "\n",
    "def OptimizeIFC(f):\n",
    "    g = ifcopenshell.file(schema=f.schema)\n",
    "#from https://academy.ifcopenshell.org/posts/ifcopenshell-optimizer-tutorial/\n",
    "\n",
    "    def generate_instances_and_references():\n",
    "        \"\"\"\n",
    "        Generator which yields an entity id and \n",
    "        the set of all of its references contained in its attributes. \n",
    "        \"\"\"\n",
    "        for inst in f:\n",
    "            yield inst.id(), set(i.id() for i in f.traverse(inst)[1:] if i.id())\n",
    "\n",
    "            \n",
    "    instance_mapping = {}\n",
    "\n",
    "    def map_value(v):\n",
    "        \"\"\"\n",
    "        Recursive function which replicates an entity instance, with \n",
    "        its attributes, mapping references to already registered\n",
    "        instances. Indeed, because of the toposort we know that \n",
    "        forward attribute value instances are mapped before the instances\n",
    "        that reference them.\n",
    "        \"\"\"\n",
    "        if isinstance(v, (list, tuple)):\n",
    "            # lists are recursively traversed\n",
    "            return type(v)(map(map_value, v))\n",
    "        elif isinstance(v, ifcopenshell.entity_instance):\n",
    "            if v.id() == 0:\n",
    "                # express simple types are not part of the toposort and just copied\n",
    "                return g.create_entity(v.is_a(), v[0])\n",
    "    \n",
    "            \n",
    "            return instance_mapping[v]\n",
    "        else:\n",
    "            # a plain python value can just be returned\n",
    "            return v\n",
    "\n",
    "    info_to_id = {}\n",
    "    \n",
    "    \n",
    "    for id in toposort(dict(generate_instances_and_references())):\n",
    "        inst = f[id]\n",
    "        info = inst.get_info(include_identifier=False, recursive=True, return_type=frozenset)\n",
    "        if info in info_to_id:\n",
    "            mapped = instance_mapping[inst] = instance_mapping[f[info_to_id[info]]]\n",
    "\n",
    "        else:\n",
    "            info_to_id[info] = id\n",
    "            instance_mapping[inst] = g.create_entity(\n",
    "                inst.is_a(),\n",
    "                *map(map_value, inst)\n",
    "            )\n",
    "    return g\n"
   ]
  },
  {
   "cell_type": "code",
   "execution_count": 3,
   "metadata": {},
   "outputs": [],
   "source": [
    "ifcPath=\"../data/Duplex_A.ifc\"\n",
    "ifc = ifcopenshell.open(ifcPath)"
   ]
  },
  {
   "cell_type": "code",
   "execution_count": 4,
   "metadata": {},
   "outputs": [
    {
     "name": "stdout",
     "output_type": "stream",
     "text": [
      " ###### 3D rendering pipe initialisation #####\n",
      "Display3d class initialization starting ...\n",
      "Aspect_DisplayConnection created.\n",
      "Graphic_Driver created.\n",
      "V3d_Viewer created.\n",
      "AIS_InteractiveContext created.\n",
      "V3d_View created\n",
      "Xw_Window created.\n",
      "Display3d class successfully initialized.\n",
      " ########################################\n"
     ]
    }
   ],
   "source": [
    "ifcshow(ifc)"
   ]
  },
  {
   "cell_type": "code",
   "execution_count": 15,
   "metadata": {},
   "outputs": [
    {
     "data": {
      "text/plain": [
       "shape_tuple(data=<ifcopenshell.ifcopenshell_wrapper.serialized_element_double_precision; proxy of <Swig Object of type 'IfcGeom::SerializedElement< double,double > *' at 0x7fdb41c298d0> >, geometry=<class 'TopoDS_Compound'>, styles=((0.5019607843137255, 0.5019607843137255, 0.5019607843137255, 1.0),))"
      ]
     },
     "execution_count": 15,
     "metadata": {},
     "output_type": "execute_result"
    }
   ],
   "source": [
    "walls = ifc.by_type('IfcWall')\n",
    "wall = walls[0]\n",
    "shape = ifcopenshell.geom.create_shape(settings, wall)#.geometry\n",
    "# Trsf = shape.Location().Transformation()\n",
    "# print(gpTrsf2T(Trsf))\n",
    "\n",
    "# wall.get_info()"
   ]
  },
  {
   "cell_type": "code",
   "execution_count": 7,
   "metadata": {},
   "outputs": [
    {
     "name": "stdout",
     "output_type": "stream",
     "text": [
      "IFC2X3\n",
      "#39=IfcBuildingStorey('1xS3BCk291UvhgP2dvNMKI',#33,'Level 1',$,$,#38,$,$,.ELEMENT.,0.)\n"
     ]
    }
   ],
   "source": [
    "from ifcopenshell.util.selector import Selector\n",
    "selector = Selector()\n",
    "\n",
    "print(ifc.schema)\n",
    "print(ifc.by_guid('1xS3BCk291UvhgP2dvNMKI')) #found Level 1 in .ifc \n",
    "\n",
    "\n",
    "elements = selector.parse(ifc, '@ #1xS3BCk291UvhgP2dvNMKI')\n",
    "\n",
    "#https://github.com/IfcOpenShell/IfcOpenShell/issues/564#issuecomment-477049228\n",
    "\n",
    "ifcNew = ifcopenshell.file(schema=ifc.schema)\n",
    "for element in elements:\n",
    "    ifcNew.add(element)\n",
    "ifcNew.write('ifcNew_Duplex_A.ifc')"
   ]
  },
  {
   "cell_type": "code",
   "execution_count": 11,
   "metadata": {},
   "outputs": [
    {
     "ename": "TypeError",
     "evalue": "'module' object is not callable",
     "output_type": "error",
     "traceback": [
      "\u001b[0;31m---------------------------------------------------------------------------\u001b[0m",
      "\u001b[0;31mTypeError\u001b[0m                                 Traceback (most recent call last)",
      "\u001b[0;32m/tmp/ipykernel_4121/1479185114.py\u001b[0m in \u001b[0;36m<module>\u001b[0;34m\u001b[0m\n\u001b[0;32m----> 1\u001b[0;31m \u001b[0mOptimizeIFC\u001b[0m\u001b[0;34m(\u001b[0m\u001b[0mifcNew\u001b[0m\u001b[0;34m)\u001b[0m\u001b[0;34m\u001b[0m\u001b[0;34m\u001b[0m\u001b[0m\n\u001b[0m",
      "\u001b[0;32m/tmp/ipykernel_4121/2513853124.py\u001b[0m in \u001b[0;36mOptimizeIFC\u001b[0;34m(f)\u001b[0m\n\u001b[1;32m     60\u001b[0m \u001b[0;34m\u001b[0m\u001b[0m\n\u001b[1;32m     61\u001b[0m \u001b[0;34m\u001b[0m\u001b[0m\n\u001b[0;32m---> 62\u001b[0;31m     \u001b[0;32mfor\u001b[0m \u001b[0mid\u001b[0m \u001b[0;32min\u001b[0m \u001b[0mtoposort\u001b[0m\u001b[0;34m(\u001b[0m\u001b[0mdict\u001b[0m\u001b[0;34m(\u001b[0m\u001b[0mgenerate_instances_and_references\u001b[0m\u001b[0;34m(\u001b[0m\u001b[0;34m)\u001b[0m\u001b[0;34m)\u001b[0m\u001b[0;34m)\u001b[0m\u001b[0;34m:\u001b[0m\u001b[0;34m\u001b[0m\u001b[0;34m\u001b[0m\u001b[0m\n\u001b[0m\u001b[1;32m     63\u001b[0m         \u001b[0minst\u001b[0m \u001b[0;34m=\u001b[0m \u001b[0mf\u001b[0m\u001b[0;34m[\u001b[0m\u001b[0mid\u001b[0m\u001b[0;34m]\u001b[0m\u001b[0;34m\u001b[0m\u001b[0;34m\u001b[0m\u001b[0m\n\u001b[1;32m     64\u001b[0m         \u001b[0minfo\u001b[0m \u001b[0;34m=\u001b[0m \u001b[0minst\u001b[0m\u001b[0;34m.\u001b[0m\u001b[0mget_info\u001b[0m\u001b[0;34m(\u001b[0m\u001b[0minclude_identifier\u001b[0m\u001b[0;34m=\u001b[0m\u001b[0;32mFalse\u001b[0m\u001b[0;34m,\u001b[0m \u001b[0mrecursive\u001b[0m\u001b[0;34m=\u001b[0m\u001b[0;32mTrue\u001b[0m\u001b[0;34m,\u001b[0m \u001b[0mreturn_type\u001b[0m\u001b[0;34m=\u001b[0m\u001b[0mfrozenset\u001b[0m\u001b[0;34m)\u001b[0m\u001b[0;34m\u001b[0m\u001b[0;34m\u001b[0m\u001b[0m\n",
      "\u001b[0;31mTypeError\u001b[0m: 'module' object is not callable"
     ]
    }
   ],
   "source": [
    " OptimizeIFC(ifcNew)"
   ]
  },
  {
   "cell_type": "code",
   "execution_count": 4,
   "metadata": {},
   "outputs": [
    {
     "name": "stdout",
     "output_type": "stream",
     "text": [
      " ###### 3D rendering pipe initialisation #####\n",
      "Display3d class initialization starting ...\n",
      "Aspect_DisplayConnection created.\n",
      "Graphic_Driver created.\n",
      "V3d_Viewer created.\n",
      "AIS_InteractiveContext created.\n",
      "V3d_View created\n",
      "Xw_Window created.\n",
      "Display3d class successfully initialized.\n",
      " ########################################\n"
     ]
    }
   ],
   "source": [
    "occ_display, start_display, add_menu, add_function_to_menu = init_display()\n",
    "cam = occ_display.View.Camera()\n",
    "# display IFC\n",
    "settings = ifcopenshell.geom.settings()\n",
    "settings.set(settings.USE_PYTHON_OPENCASCADE, True)\n",
    "products = ifcNew.by_type(\"IfcProduct\")\n",
    "for product in products:\n",
    "    if product.is_a(\"IfcOpeningElement\"): continue\n",
    "    if product.Representation:\n",
    "        shape = ifcopenshell.geom.create_shape(settings, product)\n",
    "        r, g, b, a = shape.styles[0] # the shape color\n",
    "        color = Quantity_Color(0.6, abs(g), abs(b), Quantity_TOC_RGB)\n",
    "        display_shape = occ_display.DisplayShape(shape.geometry,color=color, transparency=abs(1 -a),update=True)\n",
    "start_display() #must be used or kernel crashes"
   ]
  }
 ],
 "metadata": {
  "interpreter": {
   "hash": "67b8fd06e538271f940de2b9ef404983808bf52e6a7ddb8e9fa7aab854cbd777"
  },
  "kernelspec": {
   "display_name": "Python 3.8.12 64-bit ('pyoccenv741': conda)",
   "language": "python",
   "name": "python3"
  },
  "language_info": {
   "codemirror_mode": {
    "name": "ipython",
    "version": 3
   },
   "file_extension": ".py",
   "mimetype": "text/x-python",
   "name": "python",
   "nbconvert_exporter": "python",
   "pygments_lexer": "ipython3",
   "version": "3.8.12"
  },
  "orig_nbformat": 4
 },
 "nbformat": 4,
 "nbformat_minor": 2
}
